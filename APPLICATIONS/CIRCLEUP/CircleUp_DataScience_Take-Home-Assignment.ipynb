{
 "cells": [
  {
   "cell_type": "markdown",
   "metadata": {},
   "source": [
    "# Summary\n",
    "We analysed the CircleUp dataset with python3 libraries *Pandas*, *Numpy*, *Scipy*, *Matplotlib*, *Seeborn* and *Scikit-learn*. Data have been locally downloaded in .csv files format and imported in Pandas data frames to be manipulated.\n",
    "\n",
    "## Question 1 \n",
    "To find the solutions we used the `user_message dataset`."
   ]
  },
  {
   "cell_type": "markdown",
   "metadata": {},
   "source": [
    " - ### Point 1:\n",
    "The list of users that added more than 500 pieces of content is the following: "
   ]
  },
  {
   "cell_type": "markdown",
   "metadata": {},
   "source": [
    "User ID | Number of Content \n",
    "--- | ---\n",
    "9484 | 1163\t\n",
    "9676 | 722\t\n",
    "12116 | 688\t\n",
    "3924 |\t686\t\n",
    "2052 |640\t\n",
    "10878 | 601\t\n",
    "5999 |\t566\t\n",
    "8962 |\t551\t\n",
    "11578 |544\t\n",
    "2434 |\t526\t\n",
    "17616 | 526\t\n",
    "3532 |\t523\t\n",
    "10530 | 521\t\n",
    "11271 | 503\t"
   ]
  },
  {
   "cell_type": "markdown",
   "metadata": {},
   "source": [
    "Details of the analysis are [here](#Ranking-of-best-users-based-on-numbers-of-content-created)."
   ]
  },
  {
   "cell_type": "markdown",
   "metadata": {},
   "source": [
    " - ### Point 2:\n",
    "In order to find which users grew more rapidly in the last year, we need a measure of how fast they incremented the customer engagment in a given period.\n",
    "Such measurement can be obtained from a linear regression of the variable `total_engagement` versus the `content_created_date`. Then our metric (`growing_rate`), is rapresented by the slope of the fitted line. The bigger the slope, the faster the customer engagment growing.\n",
    "Finally, ranking the users based on this metric we found the top 10 fastest growing users:"
   ]
  },
  {
   "cell_type": "markdown",
   "metadata": {},
   "source": [
    "user_id\t| growing_rate\t\n",
    "--- | ---\n",
    "3924 |\t115.35\n",
    "2052 |\t91.11\n",
    "4527 |\t17.67\n",
    "9484 | 9.31\n",
    "12116 | 6.52\n",
    "9770 | 4.33\n",
    "3063 | 4.22\n",
    "7215 |\t3.61\n",
    "5833 | 3.00\n",
    "4711 |\t2.73"
   ]
  },
  {
   "cell_type": "markdown",
   "metadata": {},
   "source": [
    "[Here](#Fastest-Growing-users) the details of the analysis, and more considerations about the manipulation of the variable `content_created_date`. \n",
    "\n",
    "As last check, we added also some [visualization](#Visualization-of-Growing-rate) of our `Growing rate` metric."
   ]
  },
  {
   "cell_type": "markdown",
   "metadata": {},
   "source": [
    "## Question 2"
   ]
  },
  {
   "cell_type": "markdown",
   "metadata": {},
   "source": [
    "To answer the second question of the assignment, we build a supervised learning models using the `user`, `user_features` and `model_test_file` dataset. \n",
    "In order to predict the two classes of `response` outcome, we built and compared the performances of two different learning algorithms: **Support Vector Machine** and **Random Forest**. \n",
    "\n",
    "As first, we performed an exploratory data analysis ([EDA](#Exploratory-Data-Analysis)) to better understand features properties and behaviour. We applyied some features transformation as: eliminating isolated extreme values, taking logaritmic values and rescaling in order to understand possible correlations among features, and to put them in a better shape for feeding the model training.\n",
    "\n",
    "We decided to train the classification models excluding few of the features inside the `user_features` dataset. \n",
    "We observed that the performance of the **SVM** learning algorithm is better than the **Random Forest**, \n",
    "especially in predicting the less represented _class_ (`response` equal to 1). \n",
    "Details and results of the analysis are [here.](#Learning-Models).\n",
    "\n",
    "Looking for better results, we also used the complete list of features, conveniently transformed (see [here](#Data-Cleaning-and-Features-Transformation)), to train the **SVM** model, but the [results](#Training-SVM-model-after-data-cleaning) are completely comparable.]\n",
    "\n",
    "Finally we predicted the `response` for the users in the `model_test_file`, using the **SVM** model trained with the subset of features. [Here](#New-data-classification-with-SVM-algorithm) the results."
   ]
  },
  {
   "cell_type": "markdown",
   "metadata": {},
   "source": [
    "## Ranking of best users based on numbers of content created"
   ]
  },
  {
   "cell_type": "code",
   "execution_count": 3,
   "metadata": {},
   "outputs": [],
   "source": [
    "# Import libraries\n",
    "import numpy as np\n",
    "impo# Import dataset in Pandas data frame\n",
    "message_data = pd.read_csv('data/user_message.csv')\n",
    "message_data.head()rt pandas as pd"
   ]
  },
  {
   "cell_type": "code",
   "execution_count": 4,
   "metadata": {},
   "outputs": [
    {
     "data": {
      "text/html": [
       "<div>\n",
       "<style scoped>\n",
       "    .dataframe tbody tr th:only-of-type {\n",
       "        vertical-align: middle;\n",
       "    }\n",
       "\n",
       "    .dataframe tbody tr th {\n",
       "        vertical-align: top;\n",
       "    }\n",
       "\n",
       "    .dataframe thead th {\n",
       "        text-align: right;\n",
       "    }\n",
       "</style>\n",
       "<table border=\"1\" class=\"dataframe\">\n",
       "  <thead>\n",
       "    <tr style=\"text-align: right;\">\n",
       "      <th></th>\n",
       "      <th>user_id</th>\n",
       "      <th>content_created_date</th>\n",
       "      <th>content_count</th>\n",
       "      <th>total_engagement</th>\n",
       "    </tr>\n",
       "  </thead>\n",
       "  <tbody>\n",
       "    <tr>\n",
       "      <th>0</th>\n",
       "      <td>20</td>\n",
       "      <td>1/1/2015</td>\n",
       "      <td>1</td>\n",
       "      <td>52</td>\n",
       "    </tr>\n",
       "    <tr>\n",
       "      <th>1</th>\n",
       "      <td>20</td>\n",
       "      <td>1/2/2015</td>\n",
       "      <td>1</td>\n",
       "      <td>72</td>\n",
       "    </tr>\n",
       "    <tr>\n",
       "      <th>2</th>\n",
       "      <td>20</td>\n",
       "      <td>1/10/2015</td>\n",
       "      <td>1</td>\n",
       "      <td>83</td>\n",
       "    </tr>\n",
       "    <tr>\n",
       "      <th>3</th>\n",
       "      <td>20</td>\n",
       "      <td>1/12/2015</td>\n",
       "      <td>1</td>\n",
       "      <td>45</td>\n",
       "    </tr>\n",
       "    <tr>\n",
       "      <th>4</th>\n",
       "      <td>20</td>\n",
       "      <td>1/16/2015</td>\n",
       "      <td>1</td>\n",
       "      <td>102</td>\n",
       "    </tr>\n",
       "  </tbody>\n",
       "</table>\n",
       "</div>"
      ],
      "text/plain": [
       "   user_id content_created_date  content_count  total_engagement\n",
       "0       20             1/1/2015              1                52\n",
       "1       20             1/2/2015              1                72\n",
       "2       20            1/10/2015              1                83\n",
       "3       20            1/12/2015              1                45\n",
       "4       20            1/16/2015              1               102"
      ]
     },
     "execution_count": 4,
     "metadata": {},
     "output_type": "execute_result"
    }
   ],
   "source": [
    "# Import dataset in Pandas data frame\n",
    "message_data = pd.read_csv('data/user_message.csv')\n",
    "message_data.head()"
   ]
  },
  {
   "cell_type": "code",
   "execution_count": 5,
   "metadata": {},
   "outputs": [],
   "source": [
    "# Sum over content_count by user\n",
    "df_by_user = message_data.groupby('user_id').sum()"
   ]
  },
  {
   "cell_type": "code",
   "execution_count": 6,
   "metadata": {},
   "outputs": [
    {
     "data": {
      "text/html": [
       "<div>\n",
       "<style scoped>\n",
       "    .dataframe tbody tr th:only-of-type {\n",
       "        vertical-align: middle;\n",
       "    }\n",
       "\n",
       "    .dataframe tbody tr th {\n",
       "        vertical-align: top;\n",
       "    }\n",
       "\n",
       "    .dataframe thead th {\n",
       "        text-align: right;\n",
       "    }\n",
       "</style>\n",
       "<table border=\"1\" class=\"dataframe\">\n",
       "  <thead>\n",
       "    <tr style=\"text-align: right;\">\n",
       "      <th></th>\n",
       "      <th>content_count</th>\n",
       "      <th>total_engagement</th>\n",
       "    </tr>\n",
       "    <tr>\n",
       "      <th>user_id</th>\n",
       "      <th></th>\n",
       "      <th></th>\n",
       "    </tr>\n",
       "  </thead>\n",
       "  <tbody>\n",
       "    <tr>\n",
       "      <th>9484</th>\n",
       "      <td>1163</td>\n",
       "      <td>954382</td>\n",
       "    </tr>\n",
       "    <tr>\n",
       "      <th>9676</th>\n",
       "      <td>722</td>\n",
       "      <td>204249</td>\n",
       "    </tr>\n",
       "    <tr>\n",
       "      <th>12116</th>\n",
       "      <td>688</td>\n",
       "      <td>1243620</td>\n",
       "    </tr>\n",
       "    <tr>\n",
       "      <th>3924</th>\n",
       "      <td>686</td>\n",
       "      <td>16661950</td>\n",
       "    </tr>\n",
       "    <tr>\n",
       "      <th>2052</th>\n",
       "      <td>640</td>\n",
       "      <td>22826604</td>\n",
       "    </tr>\n",
       "    <tr>\n",
       "      <th>10878</th>\n",
       "      <td>601</td>\n",
       "      <td>194024</td>\n",
       "    </tr>\n",
       "    <tr>\n",
       "      <th>5999</th>\n",
       "      <td>566</td>\n",
       "      <td>373659</td>\n",
       "    </tr>\n",
       "    <tr>\n",
       "      <th>8962</th>\n",
       "      <td>551</td>\n",
       "      <td>53325</td>\n",
       "    </tr>\n",
       "    <tr>\n",
       "      <th>11578</th>\n",
       "      <td>544</td>\n",
       "      <td>90666</td>\n",
       "    </tr>\n",
       "    <tr>\n",
       "      <th>2434</th>\n",
       "      <td>526</td>\n",
       "      <td>30128</td>\n",
       "    </tr>\n",
       "    <tr>\n",
       "      <th>17616</th>\n",
       "      <td>526</td>\n",
       "      <td>180460</td>\n",
       "    </tr>\n",
       "    <tr>\n",
       "      <th>3532</th>\n",
       "      <td>523</td>\n",
       "      <td>91546</td>\n",
       "    </tr>\n",
       "    <tr>\n",
       "      <th>10530</th>\n",
       "      <td>521</td>\n",
       "      <td>16539</td>\n",
       "    </tr>\n",
       "    <tr>\n",
       "      <th>11271</th>\n",
       "      <td>503</td>\n",
       "      <td>71157</td>\n",
       "    </tr>\n",
       "  </tbody>\n",
       "</table>\n",
       "</div>"
      ],
      "text/plain": [
       "         content_count  total_engagement\n",
       "user_id                                 \n",
       "9484              1163            954382\n",
       "9676               722            204249\n",
       "12116              688           1243620\n",
       "3924               686          16661950\n",
       "2052               640          22826604\n",
       "10878              601            194024\n",
       "5999               566            373659\n",
       "8962               551             53325\n",
       "11578              544             90666\n",
       "2434               526             30128\n",
       "17616              526            180460\n",
       "3532               523             91546\n",
       "10530              521             16539\n",
       "11271              503             71157"
      ]
     },
     "execution_count": 6,
     "metadata": {},
     "output_type": "execute_result"
    }
   ],
   "source": [
    "# Select and Sort\n",
    "df = df_by_user[(df_by_user['content_count']>500)]\n",
    "df.sort_values(by='content_count', ascending=False)"
   ]
  },
  {
   "cell_type": "markdown",
   "metadata": {},
   "source": [
    "## Fastest Growing users"
   ]
  },
  {
   "cell_type": "markdown",
   "metadata": {},
   "source": [
    "In order to find the faster growing user, first of all, we need to reshape and trasform our dataset.\n",
    "First step is to convert the variable `content_created_date` from _string_ to _date_. Then, we transform each _date_ in the corresponding _number of days since '2015-01-01'_. "
   ]
  },
  {
   "cell_type": "code",
   "execution_count": 7,
   "metadata": {},
   "outputs": [
    {
     "data": {
      "text/html": [
       "<div>\n",
       "<style scoped>\n",
       "    .dataframe tbody tr th:only-of-type {\n",
       "        vertical-align: middle;\n",
       "    }\n",
       "\n",
       "    .dataframe tbody tr th {\n",
       "        vertical-align: top;\n",
       "    }\n",
       "\n",
       "    .dataframe thead th {\n",
       "        text-align: right;\n",
       "    }\n",
       "</style>\n",
       "<table border=\"1\" class=\"dataframe\">\n",
       "  <thead>\n",
       "    <tr style=\"text-align: right;\">\n",
       "      <th></th>\n",
       "      <th>user_id</th>\n",
       "      <th>content_created_date</th>\n",
       "      <th>content_count</th>\n",
       "      <th>total_engagement</th>\n",
       "    </tr>\n",
       "  </thead>\n",
       "  <tbody>\n",
       "    <tr>\n",
       "      <th>0</th>\n",
       "      <td>20</td>\n",
       "      <td>2015-01-01</td>\n",
       "      <td>1</td>\n",
       "      <td>52</td>\n",
       "    </tr>\n",
       "    <tr>\n",
       "      <th>1</th>\n",
       "      <td>20</td>\n",
       "      <td>2015-01-02</td>\n",
       "      <td>1</td>\n",
       "      <td>72</td>\n",
       "    </tr>\n",
       "    <tr>\n",
       "      <th>2</th>\n",
       "      <td>20</td>\n",
       "      <td>2015-01-10</td>\n",
       "      <td>1</td>\n",
       "      <td>83</td>\n",
       "    </tr>\n",
       "    <tr>\n",
       "      <th>3</th>\n",
       "      <td>20</td>\n",
       "      <td>2015-01-12</td>\n",
       "      <td>1</td>\n",
       "      <td>45</td>\n",
       "    </tr>\n",
       "    <tr>\n",
       "      <th>4</th>\n",
       "      <td>20</td>\n",
       "      <td>2015-01-16</td>\n",
       "      <td>1</td>\n",
       "      <td>102</td>\n",
       "    </tr>\n",
       "  </tbody>\n",
       "</table>\n",
       "</div>"
      ],
      "text/plain": [
       "   user_id content_created_date  content_count  total_engagement\n",
       "0       20           2015-01-01              1                52\n",
       "1       20           2015-01-02              1                72\n",
       "2       20           2015-01-10              1                83\n",
       "3       20           2015-01-12              1                45\n",
       "4       20           2015-01-16              1               102"
      ]
     },
     "execution_count": 7,
     "metadata": {},
     "output_type": "execute_result"
    }
   ],
   "source": [
    "# Convert strings of date in a date object\n",
    "message_data['content_created_date'] = pd.to_datetime(message_data['content_created_date'], format=\"%m/%d/%Y\")\n",
    "message_data.head()"
   ]
  },
  {
   "cell_type": "code",
   "execution_count": null,
   "metadata": {},
   "outputs": [],
   "source": [
    "# Select only needed variables\n",
    "df = message_data[['user_id', 'content_created_date', 'total_engagement']]"
   ]
  },
  {
   "cell_type": "code",
   "execution_count": 8,
   "metadata": {},
   "outputs": [
    {
     "data": {
      "text/html": [
       "<div>\n",
       "<style scoped>\n",
       "    .dataframe tbody tr th:only-of-type {\n",
       "        vertical-align: middle;\n",
       "    }\n",
       "\n",
       "    .dataframe tbody tr th {\n",
       "        vertical-align: top;\n",
       "    }\n",
       "\n",
       "    .dataframe thead th {\n",
       "        text-align: right;\n",
       "    }\n",
       "</style>\n",
       "<table border=\"1\" class=\"dataframe\">\n",
       "  <thead>\n",
       "    <tr style=\"text-align: right;\">\n",
       "      <th></th>\n",
       "      <th>user_id</th>\n",
       "      <th>content_created_date</th>\n",
       "      <th>total_engagement</th>\n",
       "      <th>days_since</th>\n",
       "    </tr>\n",
       "  </thead>\n",
       "  <tbody>\n",
       "    <tr>\n",
       "      <th>0</th>\n",
       "      <td>20</td>\n",
       "      <td>2015-01-01</td>\n",
       "      <td>52</td>\n",
       "      <td>0.0</td>\n",
       "    </tr>\n",
       "    <tr>\n",
       "      <th>1</th>\n",
       "      <td>20</td>\n",
       "      <td>2015-01-02</td>\n",
       "      <td>72</td>\n",
       "      <td>1.0</td>\n",
       "    </tr>\n",
       "    <tr>\n",
       "      <th>2</th>\n",
       "      <td>20</td>\n",
       "      <td>2015-01-10</td>\n",
       "      <td>83</td>\n",
       "      <td>9.0</td>\n",
       "    </tr>\n",
       "    <tr>\n",
       "      <th>3</th>\n",
       "      <td>20</td>\n",
       "      <td>2015-01-12</td>\n",
       "      <td>45</td>\n",
       "      <td>11.0</td>\n",
       "    </tr>\n",
       "    <tr>\n",
       "      <th>4</th>\n",
       "      <td>20</td>\n",
       "      <td>2015-01-16</td>\n",
       "      <td>102</td>\n",
       "      <td>15.0</td>\n",
       "    </tr>\n",
       "  </tbody>\n",
       "</table>\n",
       "</div>"
      ],
      "text/plain": [
       "   user_id content_created_date  total_engagement  days_since\n",
       "0       20           2015-01-01                52         0.0\n",
       "1       20           2015-01-02                72         1.0\n",
       "2       20           2015-01-10                83         9.0\n",
       "3       20           2015-01-12                45        11.0\n",
       "4       20           2015-01-16               102        15.0"
      ]
     },
     "execution_count": 8,
     "metadata": {},
     "output_type": "execute_result"
    }
   ],
   "source": [
    "# convert date in day_since to be able to apply regression\n",
    "df['days_since'] = (df.content_created_date - pd.to_datetime('2015-01-01') ).astype('timedelta64[D]')\n",
    "df.head()"
   ]
  },
  {
   "cell_type": "markdown",
   "metadata": {},
   "source": [
    "To perform the linear regression with `stats.linregress`, we need to have for each user a list of `days_since`, and a list of `total_engagement` that correspond to our _x_ and _y_ variables. "
   ]
  },
  {
   "cell_type": "code",
   "execution_count": 11,
   "metadata": {},
   "outputs": [
    {
     "data": {
      "text/plain": [
       "user_id\n",
       "20      [0.0, 1.0, 9.0, 11.0, 15.0, 21.0, 23.0, 25.0, ...\n",
       "134     [28.0, 29.0, 32.0, 37.0, 62.0, 63.0, 64.0, 65....\n",
       "635     [120.0, 121.0, 122.0, 123.0, 124.0, 125.0, 126...\n",
       "950     [4.0, 49.0, 55.0, 56.0, 60.0, 61.0, 67.0, 75.0...\n",
       "1034    [4.0, 11.0, 12.0, 13.0, 18.0, 20.0, 25.0, 41.0...\n",
       "Name: days_since, dtype: object"
      ]
     },
     "execution_count": 11,
     "metadata": {},
     "output_type": "execute_result"
    }
   ],
   "source": [
    "# reshape df to have a list of 'days_since' for each user\n",
    "dfreshaped_x = df.groupby('user_id')['days_since'].apply(list)\n",
    "dfreshaped_x.head()"
   ]
  },
  {
   "cell_type": "code",
   "execution_count": 12,
   "metadata": {},
   "outputs": [
    {
     "data": {
      "text/plain": [
       "user_id\n",
       "20      [52, 72, 83, 45, 102, 35, 92, 33, 39, 109, 54,...\n",
       "134     [68, 44, 12, 13, 18, 69, 121, 23, 61, 34, 22, ...\n",
       "635     [67, 37, 20, 36, 20, 7, 16, 25, 15, 4, 7, 14, ...\n",
       "950     [18, 20, 8, 13, 6, 16, 8, 14, 12, 15, 15, 8, 1...\n",
       "1034    [22, 28, 18, 12, 29, 26, 45, 50, 29, 29, 33, 2...\n",
       "Name: total_engagement, dtype: object"
      ]
     },
     "execution_count": 12,
     "metadata": {},
     "output_type": "execute_result"
    }
   ],
   "source": [
    "# reshape df to have a list of 'total_engagement' for each user\n",
    "dfreshaped_y = df.groupby('user_id')['total_engagement'].apply(list)\n",
    "dfreshaped_y.head()"
   ]
  },
  {
   "cell_type": "code",
   "execution_count": 16,
   "metadata": {},
   "outputs": [
    {
     "data": {
      "text/html": [
       "<div>\n",
       "<style scoped>\n",
       "    .dataframe tbody tr th:only-of-type {\n",
       "        vertical-align: middle;\n",
       "    }\n",
       "\n",
       "    .dataframe tbody tr th {\n",
       "        vertical-align: top;\n",
       "    }\n",
       "\n",
       "    .dataframe thead th {\n",
       "        text-align: right;\n",
       "    }\n",
       "</style>\n",
       "<table border=\"1\" class=\"dataframe\">\n",
       "  <thead>\n",
       "    <tr style=\"text-align: right;\">\n",
       "      <th></th>\n",
       "      <th>days_since</th>\n",
       "      <th>total_engagement</th>\n",
       "    </tr>\n",
       "    <tr>\n",
       "      <th>user_id</th>\n",
       "      <th></th>\n",
       "      <th></th>\n",
       "    </tr>\n",
       "  </thead>\n",
       "  <tbody>\n",
       "    <tr>\n",
       "      <th>20</th>\n",
       "      <td>[0.0, 1.0, 9.0, 11.0, 15.0, 21.0, 23.0, 25.0, ...</td>\n",
       "      <td>[52, 72, 83, 45, 102, 35, 92, 33, 39, 109, 54,...</td>\n",
       "    </tr>\n",
       "    <tr>\n",
       "      <th>134</th>\n",
       "      <td>[28.0, 29.0, 32.0, 37.0, 62.0, 63.0, 64.0, 65....</td>\n",
       "      <td>[68, 44, 12, 13, 18, 69, 121, 23, 61, 34, 22, ...</td>\n",
       "    </tr>\n",
       "    <tr>\n",
       "      <th>635</th>\n",
       "      <td>[120.0, 121.0, 122.0, 123.0, 124.0, 125.0, 126...</td>\n",
       "      <td>[67, 37, 20, 36, 20, 7, 16, 25, 15, 4, 7, 14, ...</td>\n",
       "    </tr>\n",
       "    <tr>\n",
       "      <th>950</th>\n",
       "      <td>[4.0, 49.0, 55.0, 56.0, 60.0, 61.0, 67.0, 75.0...</td>\n",
       "      <td>[18, 20, 8, 13, 6, 16, 8, 14, 12, 15, 15, 8, 1...</td>\n",
       "    </tr>\n",
       "    <tr>\n",
       "      <th>1034</th>\n",
       "      <td>[4.0, 11.0, 12.0, 13.0, 18.0, 20.0, 25.0, 41.0...</td>\n",
       "      <td>[22, 28, 18, 12, 29, 26, 45, 50, 29, 29, 33, 2...</td>\n",
       "    </tr>\n",
       "  </tbody>\n",
       "</table>\n",
       "</div>"
      ],
      "text/plain": [
       "                                                days_since  \\\n",
       "user_id                                                      \n",
       "20       [0.0, 1.0, 9.0, 11.0, 15.0, 21.0, 23.0, 25.0, ...   \n",
       "134      [28.0, 29.0, 32.0, 37.0, 62.0, 63.0, 64.0, 65....   \n",
       "635      [120.0, 121.0, 122.0, 123.0, 124.0, 125.0, 126...   \n",
       "950      [4.0, 49.0, 55.0, 56.0, 60.0, 61.0, 67.0, 75.0...   \n",
       "1034     [4.0, 11.0, 12.0, 13.0, 18.0, 20.0, 25.0, 41.0...   \n",
       "\n",
       "                                          total_engagement  \n",
       "user_id                                                     \n",
       "20       [52, 72, 83, 45, 102, 35, 92, 33, 39, 109, 54,...  \n",
       "134      [68, 44, 12, 13, 18, 69, 121, 23, 61, 34, 22, ...  \n",
       "635      [67, 37, 20, 36, 20, 7, 16, 25, 15, 4, 7, 14, ...  \n",
       "950      [18, 20, 8, 13, 6, 16, 8, 14, 12, 15, 15, 8, 1...  \n",
       "1034     [22, 28, 18, 12, 29, 26, 45, 50, 29, 29, 33, 2...  "
      ]
     },
     "execution_count": 16,
     "metadata": {},
     "output_type": "execute_result"
    }
   ],
   "source": [
    "# Reshape data to have it in a useful format\n",
    "data = {'days_since':dfreshaped_x, 'total_engagement':dfreshaped_y}\n",
    "day_eng_list_df = pd.DataFrame(data)\n",
    "day_eng_list_df.head()"
   ]
  },
  {
   "cell_type": "markdown",
   "metadata": {},
   "source": [
    "Another important analysis step is to check how many points (`days_since`, `total_engagement`) there are for each users. Because too few points could affect the quality of the linear regression fit resulting in an innacurate _slope_ calculation.\n",
    "We choosed to exclude users with less than 10 entries in the data frame."
   ]
  },
  {
   "cell_type": "code",
   "execution_count": 22,
   "metadata": {},
   "outputs": [
    {
     "data": {
      "text/html": [
       "<div>\n",
       "<style scoped>\n",
       "    .dataframe tbody tr th:only-of-type {\n",
       "        vertical-align: middle;\n",
       "    }\n",
       "\n",
       "    .dataframe tbody tr th {\n",
       "        vertical-align: top;\n",
       "    }\n",
       "\n",
       "    .dataframe thead th {\n",
       "        text-align: right;\n",
       "    }\n",
       "</style>\n",
       "<table border=\"1\" class=\"dataframe\">\n",
       "  <thead>\n",
       "    <tr style=\"text-align: right;\">\n",
       "      <th></th>\n",
       "      <th>days_since</th>\n",
       "      <th>total_engagement</th>\n",
       "      <th>counts</th>\n",
       "    </tr>\n",
       "    <tr>\n",
       "      <th>user_id</th>\n",
       "      <th></th>\n",
       "      <th></th>\n",
       "      <th></th>\n",
       "    </tr>\n",
       "  </thead>\n",
       "  <tbody>\n",
       "    <tr>\n",
       "      <th>20</th>\n",
       "      <td>[0.0, 1.0, 9.0, 11.0, 15.0, 21.0, 23.0, 25.0, ...</td>\n",
       "      <td>[52, 72, 83, 45, 102, 35, 92, 33, 39, 109, 54,...</td>\n",
       "      <td>84</td>\n",
       "    </tr>\n",
       "    <tr>\n",
       "      <th>134</th>\n",
       "      <td>[28.0, 29.0, 32.0, 37.0, 62.0, 63.0, 64.0, 65....</td>\n",
       "      <td>[68, 44, 12, 13, 18, 69, 121, 23, 61, 34, 22, ...</td>\n",
       "      <td>55</td>\n",
       "    </tr>\n",
       "    <tr>\n",
       "      <th>635</th>\n",
       "      <td>[120.0, 121.0, 122.0, 123.0, 124.0, 125.0, 126...</td>\n",
       "      <td>[67, 37, 20, 36, 20, 7, 16, 25, 15, 4, 7, 14, ...</td>\n",
       "      <td>126</td>\n",
       "    </tr>\n",
       "    <tr>\n",
       "      <th>950</th>\n",
       "      <td>[4.0, 49.0, 55.0, 56.0, 60.0, 61.0, 67.0, 75.0...</td>\n",
       "      <td>[18, 20, 8, 13, 6, 16, 8, 14, 12, 15, 15, 8, 1...</td>\n",
       "      <td>113</td>\n",
       "    </tr>\n",
       "    <tr>\n",
       "      <th>1034</th>\n",
       "      <td>[4.0, 11.0, 12.0, 13.0, 18.0, 20.0, 25.0, 41.0...</td>\n",
       "      <td>[22, 28, 18, 12, 29, 26, 45, 50, 29, 29, 33, 2...</td>\n",
       "      <td>73</td>\n",
       "    </tr>\n",
       "  </tbody>\n",
       "</table>\n",
       "</div>"
      ],
      "text/plain": [
       "                                                days_since  \\\n",
       "user_id                                                      \n",
       "20       [0.0, 1.0, 9.0, 11.0, 15.0, 21.0, 23.0, 25.0, ...   \n",
       "134      [28.0, 29.0, 32.0, 37.0, 62.0, 63.0, 64.0, 65....   \n",
       "635      [120.0, 121.0, 122.0, 123.0, 124.0, 125.0, 126...   \n",
       "950      [4.0, 49.0, 55.0, 56.0, 60.0, 61.0, 67.0, 75.0...   \n",
       "1034     [4.0, 11.0, 12.0, 13.0, 18.0, 20.0, 25.0, 41.0...   \n",
       "\n",
       "                                          total_engagement  counts  \n",
       "user_id                                                             \n",
       "20       [52, 72, 83, 45, 102, 35, 92, 33, 39, 109, 54,...      84  \n",
       "134      [68, 44, 12, 13, 18, 69, 121, 23, 61, 34, 22, ...      55  \n",
       "635      [67, 37, 20, 36, 20, 7, 16, 25, 15, 4, 7, 14, ...     126  \n",
       "950      [18, 20, 8, 13, 6, 16, 8, 14, 12, 15, 15, 8, 1...     113  \n",
       "1034     [22, 28, 18, 12, 29, 26, 45, 50, 29, 29, 33, 2...      73  "
      ]
     },
     "execution_count": 22,
     "metadata": {},
     "output_type": "execute_result"
    }
   ],
   "source": [
    "# sanity check on the lenght of the lists in order to have a meaning regression points\n",
    "day_eng_list_df['counts'] = day_eng_list_df['days_since'].apply(len)\n",
    "day_eng_list_df.head()"
   ]
  },
  {
   "cell_type": "code",
   "execution_count": 23,
   "metadata": {},
   "outputs": [],
   "source": [
    "# Remove users with less than 10 entrie per list of days_since and total_engagement\n",
    "cut_df = day_eng_list_df[day_eng_list_df['counts']>10]"
   ]
  },
  {
   "cell_type": "markdown",
   "metadata": {},
   "source": [
    "Now, we define a function that performs the regression using `stats.linregress`, and returns the slope of the regression line."
   ]
  },
  {
   "cell_type": "code",
   "execution_count": 25,
   "metadata": {},
   "outputs": [],
   "source": [
    "# Function definition\n",
    "from scipy import stats\n",
    "\n",
    "def linreg(row):\n",
    "    slope, intercept, r_value, p_value, std_err = stats.linregress(row['days_since'], row['total_engagement'])\n",
    "    return slope"
   ]
  },
  {
   "cell_type": "markdown",
   "metadata": {},
   "source": [
    "Finally, we apply our `linreg` function to the reshaped data frame, and add a new column with the _slope_ of the regression line. This new parameter is the the `growing_rate` metric that we could use to find the faster growing users."
   ]
  },
  {
   "cell_type": "code",
   "execution_count": 29,
   "metadata": {},
   "outputs": [
    {
     "name": "stderr",
     "output_type": "stream",
     "text": [
      "C:\\Users\\Michela\\Anaconda3\\lib\\site-packages\\ipykernel_launcher.py:2: SettingWithCopyWarning: \n",
      "A value is trying to be set on a copy of a slice from a DataFrame.\n",
      "Try using .loc[row_indexer,col_indexer] = value instead\n",
      "\n",
      "See the caveats in the documentation: http://pandas.pydata.org/pandas-docs/stable/indexing.html#indexing-view-versus-copy\n",
      "  \n"
     ]
    }
   ],
   "source": [
    "# Apply linreg function to cut_df data frame \n",
    "cut_df['growing_rate'] = cut_df.apply(linreg, axis=1)"
   ]
  },
  {
   "cell_type": "markdown",
   "metadata": {},
   "source": [
    "The final answer to point 2 of Question 1 is the following table of the 10 users with the higher `growing rate`."
   ]
  },
  {
   "cell_type": "code",
   "execution_count": 63,
   "metadata": {},
   "outputs": [
    {
     "data": {
      "text/html": [
       "<div>\n",
       "<style scoped>\n",
       "    .dataframe tbody tr th:only-of-type {\n",
       "        vertical-align: middle;\n",
       "    }\n",
       "\n",
       "    .dataframe tbody tr th {\n",
       "        vertical-align: top;\n",
       "    }\n",
       "\n",
       "    .dataframe thead th {\n",
       "        text-align: right;\n",
       "    }\n",
       "</style>\n",
       "<table border=\"1\" class=\"dataframe\">\n",
       "  <thead>\n",
       "    <tr style=\"text-align: right;\">\n",
       "      <th></th>\n",
       "      <th>days_since</th>\n",
       "      <th>total_engagement</th>\n",
       "      <th>counts</th>\n",
       "      <th>growing_rate</th>\n",
       "    </tr>\n",
       "    <tr>\n",
       "      <th>user_id</th>\n",
       "      <th></th>\n",
       "      <th></th>\n",
       "      <th></th>\n",
       "      <th></th>\n",
       "    </tr>\n",
       "  </thead>\n",
       "  <tbody>\n",
       "    <tr>\n",
       "      <th>3924</th>\n",
       "      <td>[0.0, 1.0, 2.0, 4.0, 6.0, 7.0, 8.0, 10.0, 13.0...</td>\n",
       "      <td>[21991, 56394, 26564, 17767, 36185, 21713, 236...</td>\n",
       "      <td>318</td>\n",
       "      <td>115.351638</td>\n",
       "    </tr>\n",
       "    <tr>\n",
       "      <th>2052</th>\n",
       "      <td>[0.0, 1.0, 2.0, 4.0, 5.0, 6.0, 7.0, 9.0, 11.0,...</td>\n",
       "      <td>[17273, 16608, 25792, 31585, 211897, 296452, 1...</td>\n",
       "      <td>298</td>\n",
       "      <td>91.111386</td>\n",
       "    </tr>\n",
       "    <tr>\n",
       "      <th>4527</th>\n",
       "      <td>[0.0, 1.0, 6.0, 11.0, 16.0, 20.0, 23.0, 26.0, ...</td>\n",
       "      <td>[274, 471, 308, 327, 362, 560, 374, 352, 295, ...</td>\n",
       "      <td>119</td>\n",
       "      <td>17.673102</td>\n",
       "    </tr>\n",
       "    <tr>\n",
       "      <th>9484</th>\n",
       "      <td>[109.0, 110.0, 111.0, 112.0, 113.0, 114.0, 115...</td>\n",
       "      <td>[2039, 2994, 3229, 5582, 5287, 4302, 2554, 350...</td>\n",
       "      <td>198</td>\n",
       "      <td>9.315306</td>\n",
       "    </tr>\n",
       "    <tr>\n",
       "      <th>12116</th>\n",
       "      <td>[5.0, 6.0, 7.0, 8.0, 9.0, 10.0, 11.0, 12.0, 13...</td>\n",
       "      <td>[1490, 4267, 5118, 907, 2507, 1038, 5417, 4488...</td>\n",
       "      <td>302</td>\n",
       "      <td>6.518727</td>\n",
       "    </tr>\n",
       "    <tr>\n",
       "      <th>9770</th>\n",
       "      <td>[17.0, 23.0, 53.0, 79.0, 80.0, 81.0, 82.0, 83....</td>\n",
       "      <td>[528, 10431, 4948, 4966, 4985, 529, 528, 488, ...</td>\n",
       "      <td>243</td>\n",
       "      <td>4.326168</td>\n",
       "    </tr>\n",
       "    <tr>\n",
       "      <th>3063</th>\n",
       "      <td>[4.0, 7.0, 11.0, 14.0, 18.0, 22.0, 23.0, 26.0,...</td>\n",
       "      <td>[509, 370, 385, 574, 566, 538, 603, 422, 352, ...</td>\n",
       "      <td>81</td>\n",
       "      <td>4.223012</td>\n",
       "    </tr>\n",
       "    <tr>\n",
       "      <th>7215</th>\n",
       "      <td>[109.0, 110.0, 111.0, 112.0, 113.0, 114.0, 115...</td>\n",
       "      <td>[136, 228, 164, 86, 340, 290, 180, 199, 196, 1...</td>\n",
       "      <td>219</td>\n",
       "      <td>3.613537</td>\n",
       "    </tr>\n",
       "    <tr>\n",
       "      <th>5833</th>\n",
       "      <td>[4.0, 8.0, 13.0, 19.0, 22.0, 35.0, 36.0, 47.0,...</td>\n",
       "      <td>[2082, 1544, 1504, 688, 963, 1611, 928, 2973, ...</td>\n",
       "      <td>34</td>\n",
       "      <td>3.007240</td>\n",
       "    </tr>\n",
       "    <tr>\n",
       "      <th>4711</th>\n",
       "      <td>[6.0, 9.0, 10.0, 12.0, 14.0, 16.0, 18.0, 20.0,...</td>\n",
       "      <td>[653, 143, 153, 124, 205, 163, 148, 229, 172, ...</td>\n",
       "      <td>185</td>\n",
       "      <td>2.731612</td>\n",
       "    </tr>\n",
       "  </tbody>\n",
       "</table>\n",
       "</div>"
      ],
      "text/plain": [
       "                                                days_since  \\\n",
       "user_id                                                      \n",
       "3924     [0.0, 1.0, 2.0, 4.0, 6.0, 7.0, 8.0, 10.0, 13.0...   \n",
       "2052     [0.0, 1.0, 2.0, 4.0, 5.0, 6.0, 7.0, 9.0, 11.0,...   \n",
       "4527     [0.0, 1.0, 6.0, 11.0, 16.0, 20.0, 23.0, 26.0, ...   \n",
       "9484     [109.0, 110.0, 111.0, 112.0, 113.0, 114.0, 115...   \n",
       "12116    [5.0, 6.0, 7.0, 8.0, 9.0, 10.0, 11.0, 12.0, 13...   \n",
       "9770     [17.0, 23.0, 53.0, 79.0, 80.0, 81.0, 82.0, 83....   \n",
       "3063     [4.0, 7.0, 11.0, 14.0, 18.0, 22.0, 23.0, 26.0,...   \n",
       "7215     [109.0, 110.0, 111.0, 112.0, 113.0, 114.0, 115...   \n",
       "5833     [4.0, 8.0, 13.0, 19.0, 22.0, 35.0, 36.0, 47.0,...   \n",
       "4711     [6.0, 9.0, 10.0, 12.0, 14.0, 16.0, 18.0, 20.0,...   \n",
       "\n",
       "                                          total_engagement  counts  \\\n",
       "user_id                                                              \n",
       "3924     [21991, 56394, 26564, 17767, 36185, 21713, 236...     318   \n",
       "2052     [17273, 16608, 25792, 31585, 211897, 296452, 1...     298   \n",
       "4527     [274, 471, 308, 327, 362, 560, 374, 352, 295, ...     119   \n",
       "9484     [2039, 2994, 3229, 5582, 5287, 4302, 2554, 350...     198   \n",
       "12116    [1490, 4267, 5118, 907, 2507, 1038, 5417, 4488...     302   \n",
       "9770     [528, 10431, 4948, 4966, 4985, 529, 528, 488, ...     243   \n",
       "3063     [509, 370, 385, 574, 566, 538, 603, 422, 352, ...      81   \n",
       "7215     [136, 228, 164, 86, 340, 290, 180, 199, 196, 1...     219   \n",
       "5833     [2082, 1544, 1504, 688, 963, 1611, 928, 2973, ...      34   \n",
       "4711     [653, 143, 153, 124, 205, 163, 148, 229, 172, ...     185   \n",
       "\n",
       "         growing_rate  \n",
       "user_id                \n",
       "3924       115.351638  \n",
       "2052        91.111386  \n",
       "4527        17.673102  \n",
       "9484         9.315306  \n",
       "12116        6.518727  \n",
       "9770         4.326168  \n",
       "3063         4.223012  \n",
       "7215         3.613537  \n",
       "5833         3.007240  \n",
       "4711         2.731612  "
      ]
     },
     "execution_count": 63,
     "metadata": {},
     "output_type": "execute_result"
    }
   ],
   "source": [
    "# Sort and select first 10 users\n",
    "sorted_df = cut_df.sort_values('growing_rate', ascending=False)\n",
    "sorted_df[:10]"
   ]
  },
  {
   "cell_type": "markdown",
   "metadata": {},
   "source": [
    "## Visualization of `Growing rate` "
   ]
  },
  {
   "cell_type": "markdown",
   "metadata": {},
   "source": [
    "In order to check our results we visualized the regression line for the first and last ranked users."
   ]
  },
  {
   "cell_type": "code",
   "execution_count": 282,
   "metadata": {},
   "outputs": [],
   "source": [
    "# Select arrays of points for the first user and last users\n",
    "x_coord=sorted_df.loc[:, 'days_since']\n",
    "y_coord=sorted_df.loc[:, 'total_engagement']\n",
    "\n",
    "x1 = x_coord.iloc[0]\n",
    "y1 = y_coord.iloc[0]\n",
    "x9 = x_coord.iloc[9]\n",
    "y9 = y_coord.iloc[9]"
   ]
  },
  {
   "cell_type": "code",
   "execution_count": 288,
   "metadata": {},
   "outputs": [
    {
     "name": "stdout",
     "output_type": "stream",
     "text": [
      "slope = 115.3516377750555\n"
     ]
    },
    {
     "data": {
      "image/png": "[encoded data removed]",
      "text/plain": [
       "<matplotlib.figure.Figure at 0x2371b0e14a8>"
      ]
     },
     "metadata": {},
     "output_type": "display_data"
    }
   ],
   "source": [
    "# Plot point and regression line\n",
    "import matplotlib.pyplot as plt\n",
    "\n",
    "plt.title('Growing rate visualization for the fastest user')\n",
    "plt.xlabel('Days since')\n",
    "plt.ylabel('Total engagement')\n",
    "plt.plot(x1, y1, 'b.')\n",
    "slope, intercept, r_value, p_value, std_err = stats.linregress(x1, y1)\n",
    "plt.plot(x1, slope * np.array(x1) + intercept, 'r-')\n",
    "print(\"slope =\", slope)"
   ]
  },
  {
   "cell_type": "code",
   "execution_count": 287,
   "metadata": {},
   "outputs": [
    {
     "name": "stdout",
     "output_type": "stream",
     "text": [
      "slope = 2.731612298914138\n"
     ]
    },
    {
     "data": {
      "image/png": "[encoded data removed]",
      "text/plain": [
       "<matplotlib.figure.Figure at 0x2371b71fb38>"
      ]
     },
     "metadata": {},
     "output_type": "display_data"
    }
   ],
   "source": [
    "# Plot point and regression line\n",
    "plt.title('Growing rate visualization for the last user')\n",
    "plt.xlabel('Days since')\n",
    "plt.ylabel('Total engagement')\n",
    "plt.plot(x9, y9, 'b.')\n",
    "slope, intercept, r_value, p_value, std_err = stats.linregress(x9, y9)\n",
    "plt.plot(x9, slope * np.array(x9) + intercept, 'r-')\n",
    "print(\"slope =\", slope)"
   ]
  },
  {
   "cell_type": "markdown",
   "metadata": {},
   "source": [
    "## Learning Models"
   ]
  },
  {
   "cell_type": "code",
   "execution_count": 68,
   "metadata": {},
   "outputs": [],
   "source": [
    "# Import libraries\n",
    "import pandas as pd\n",
    "import numpy as np\n",
    "import matplotlib.pyplot as plt\n",
    "import seaborn as sns\n",
    "%matplotlib inline"
   ]
  },
  {
   "cell_type": "code",
   "execution_count": 69,
   "metadata": {},
   "outputs": [],
   "source": [
    "# import data\n",
    "features = pd.read_csv('data/user_features.csv')\n",
    "users = pd.read_csv('data/user.csv')"
   ]
  },
  {
   "cell_type": "code",
   "execution_count": 70,
   "metadata": {},
   "outputs": [
    {
     "data": {
      "text/html": [
       "<div>\n",
       "<style scoped>\n",
       "    .dataframe tbody tr th:only-of-type {\n",
       "        vertical-align: middle;\n",
       "    }\n",
       "\n",
       "    .dataframe tbody tr th {\n",
       "        vertical-align: top;\n",
       "    }\n",
       "\n",
       "    .dataframe thead th {\n",
       "        text-align: right;\n",
       "    }\n",
       "</style>\n",
       "<table border=\"1\" class=\"dataframe\">\n",
       "  <thead>\n",
       "    <tr style=\"text-align: right;\">\n",
       "      <th></th>\n",
       "      <th>var_1</th>\n",
       "      <th>var_2</th>\n",
       "      <th>var_3</th>\n",
       "      <th>var_4</th>\n",
       "      <th>var_5</th>\n",
       "      <th>var_6</th>\n",
       "      <th>var_7</th>\n",
       "      <th>var_8</th>\n",
       "      <th>var_9</th>\n",
       "      <th>var_10</th>\n",
       "      <th>var_11</th>\n",
       "      <th>var_12</th>\n",
       "      <th>user_id</th>\n",
       "    </tr>\n",
       "  </thead>\n",
       "  <tbody>\n",
       "    <tr>\n",
       "      <th>0</th>\n",
       "      <td>1</td>\n",
       "      <td>1</td>\n",
       "      <td>0</td>\n",
       "      <td>1740115</td>\n",
       "      <td>38.637588</td>\n",
       "      <td>26</td>\n",
       "      <td>0</td>\n",
       "      <td>0.0000</td>\n",
       "      <td>0</td>\n",
       "      <td>2542</td>\n",
       "      <td>0</td>\n",
       "      <td>0.87499</td>\n",
       "      <td>154531</td>\n",
       "    </tr>\n",
       "    <tr>\n",
       "      <th>1</th>\n",
       "      <td>1</td>\n",
       "      <td>1</td>\n",
       "      <td>362</td>\n",
       "      <td>9803192</td>\n",
       "      <td>30.901522</td>\n",
       "      <td>11</td>\n",
       "      <td>237</td>\n",
       "      <td>1.7553</td>\n",
       "      <td>0</td>\n",
       "      <td>117</td>\n",
       "      <td>17</td>\n",
       "      <td>0.79306</td>\n",
       "      <td>156315</td>\n",
       "    </tr>\n",
       "    <tr>\n",
       "      <th>2</th>\n",
       "      <td>1</td>\n",
       "      <td>1</td>\n",
       "      <td>3279</td>\n",
       "      <td>3694516</td>\n",
       "      <td>45.933998</td>\n",
       "      <td>329</td>\n",
       "      <td>638</td>\n",
       "      <td>13.1270</td>\n",
       "      <td>0</td>\n",
       "      <td>1313</td>\n",
       "      <td>380</td>\n",
       "      <td>0.94425</td>\n",
       "      <td>149607</td>\n",
       "    </tr>\n",
       "    <tr>\n",
       "      <th>3</th>\n",
       "      <td>1</td>\n",
       "      <td>1</td>\n",
       "      <td>213</td>\n",
       "      <td>18185084</td>\n",
       "      <td>34.120554</td>\n",
       "      <td>162</td>\n",
       "      <td>65</td>\n",
       "      <td>2.4769</td>\n",
       "      <td>0</td>\n",
       "      <td>168</td>\n",
       "      <td>12</td>\n",
       "      <td>0.57251</td>\n",
       "      <td>26755</td>\n",
       "    </tr>\n",
       "    <tr>\n",
       "      <th>4</th>\n",
       "      <td>0</td>\n",
       "      <td>0</td>\n",
       "      <td>226</td>\n",
       "      <td>0</td>\n",
       "      <td>23.700552</td>\n",
       "      <td>3</td>\n",
       "      <td>99</td>\n",
       "      <td>5.0404</td>\n",
       "      <td>0</td>\n",
       "      <td>119</td>\n",
       "      <td>156</td>\n",
       "      <td>0.45718</td>\n",
       "      <td>149734</td>\n",
       "    </tr>\n",
       "  </tbody>\n",
       "</table>\n",
       "</div>"
      ],
      "text/plain": [
       "   var_1  var_2  var_3     var_4      var_5  var_6  var_7    var_8  var_9  \\\n",
       "0      1      1      0   1740115  38.637588     26      0   0.0000      0   \n",
       "1      1      1    362   9803192  30.901522     11    237   1.7553      0   \n",
       "2      1      1   3279   3694516  45.933998    329    638  13.1270      0   \n",
       "3      1      1    213  18185084  34.120554    162     65   2.4769      0   \n",
       "4      0      0    226         0  23.700552      3     99   5.0404      0   \n",
       "\n",
       "   var_10  var_11   var_12  user_id  \n",
       "0    2542       0  0.87499   154531  \n",
       "1     117      17  0.79306   156315  \n",
       "2    1313     380  0.94425   149607  \n",
       "3     168      12  0.57251    26755  \n",
       "4     119     156  0.45718   149734  "
      ]
     },
     "execution_count": 70,
     "metadata": {},
     "output_type": "execute_result"
    }
   ],
   "source": [
    "features.head()"
   ]
  },
  {
   "cell_type": "code",
   "execution_count": 71,
   "metadata": {},
   "outputs": [
    {
     "data": {
      "text/html": [
       "<div>\n",
       "<style scoped>\n",
       "    .dataframe tbody tr th:only-of-type {\n",
       "        vertical-align: middle;\n",
       "    }\n",
       "\n",
       "    .dataframe tbody tr th {\n",
       "        vertical-align: top;\n",
       "    }\n",
       "\n",
       "    .dataframe thead th {\n",
       "        text-align: right;\n",
       "    }\n",
       "</style>\n",
       "<table border=\"1\" class=\"dataframe\">\n",
       "  <thead>\n",
       "    <tr style=\"text-align: right;\">\n",
       "      <th></th>\n",
       "      <th>response</th>\n",
       "      <th>user_id</th>\n",
       "    </tr>\n",
       "  </thead>\n",
       "  <tbody>\n",
       "    <tr>\n",
       "      <th>0</th>\n",
       "      <td>0</td>\n",
       "      <td>154531</td>\n",
       "    </tr>\n",
       "    <tr>\n",
       "      <th>1</th>\n",
       "      <td>0</td>\n",
       "      <td>156315</td>\n",
       "    </tr>\n",
       "    <tr>\n",
       "      <th>2</th>\n",
       "      <td>0</td>\n",
       "      <td>149607</td>\n",
       "    </tr>\n",
       "    <tr>\n",
       "      <th>3</th>\n",
       "      <td>0</td>\n",
       "      <td>26755</td>\n",
       "    </tr>\n",
       "    <tr>\n",
       "      <th>4</th>\n",
       "      <td>0</td>\n",
       "      <td>149734</td>\n",
       "    </tr>\n",
       "  </tbody>\n",
       "</table>\n",
       "</div>"
      ],
      "text/plain": [
       "   response  user_id\n",
       "0         0   154531\n",
       "1         0   156315\n",
       "2         0   149607\n",
       "3         0    26755\n",
       "4         0   149734"
      ]
     },
     "execution_count": 71,
     "metadata": {},
     "output_type": "execute_result"
    }
   ],
   "source": [
    "users.head()"
   ]
  },
  {
   "cell_type": "code",
   "execution_count": 72,
   "metadata": {},
   "outputs": [],
   "source": [
    "# put togheter to have the final dataset\n",
    "train = users.set_index('user_id').join(features.set_index('user_id'))"
   ]
  },
  {
   "cell_type": "code",
   "execution_count": 73,
   "metadata": {},
   "outputs": [
    {
     "data": {
      "text/html": [
       "<div>\n",
       "<style scoped>\n",
       "    .dataframe tbody tr th:only-of-type {\n",
       "        vertical-align: middle;\n",
       "    }\n",
       "\n",
       "    .dataframe tbody tr th {\n",
       "        vertical-align: top;\n",
       "    }\n",
       "\n",
       "    .dataframe thead th {\n",
       "        text-align: right;\n",
       "    }\n",
       "</style>\n",
       "<table border=\"1\" class=\"dataframe\">\n",
       "  <thead>\n",
       "    <tr style=\"text-align: right;\">\n",
       "      <th></th>\n",
       "      <th>response</th>\n",
       "      <th>var_1</th>\n",
       "      <th>var_2</th>\n",
       "      <th>var_3</th>\n",
       "      <th>var_4</th>\n",
       "      <th>var_5</th>\n",
       "      <th>var_6</th>\n",
       "      <th>var_7</th>\n",
       "      <th>var_8</th>\n",
       "      <th>var_9</th>\n",
       "      <th>var_10</th>\n",
       "      <th>var_11</th>\n",
       "      <th>var_12</th>\n",
       "    </tr>\n",
       "    <tr>\n",
       "      <th>user_id</th>\n",
       "      <th></th>\n",
       "      <th></th>\n",
       "      <th></th>\n",
       "      <th></th>\n",
       "      <th></th>\n",
       "      <th></th>\n",
       "      <th></th>\n",
       "      <th></th>\n",
       "      <th></th>\n",
       "      <th></th>\n",
       "      <th></th>\n",
       "      <th></th>\n",
       "      <th></th>\n",
       "    </tr>\n",
       "  </thead>\n",
       "  <tbody>\n",
       "    <tr>\n",
       "      <th>154531</th>\n",
       "      <td>0</td>\n",
       "      <td>1</td>\n",
       "      <td>1</td>\n",
       "      <td>0</td>\n",
       "      <td>1740115</td>\n",
       "      <td>38.637588</td>\n",
       "      <td>26</td>\n",
       "      <td>0</td>\n",
       "      <td>0.0000</td>\n",
       "      <td>0</td>\n",
       "      <td>2542</td>\n",
       "      <td>0</td>\n",
       "      <td>0.87499</td>\n",
       "    </tr>\n",
       "    <tr>\n",
       "      <th>156315</th>\n",
       "      <td>0</td>\n",
       "      <td>1</td>\n",
       "      <td>1</td>\n",
       "      <td>362</td>\n",
       "      <td>9803192</td>\n",
       "      <td>30.901522</td>\n",
       "      <td>11</td>\n",
       "      <td>237</td>\n",
       "      <td>1.7553</td>\n",
       "      <td>0</td>\n",
       "      <td>117</td>\n",
       "      <td>17</td>\n",
       "      <td>0.79306</td>\n",
       "    </tr>\n",
       "    <tr>\n",
       "      <th>149607</th>\n",
       "      <td>0</td>\n",
       "      <td>1</td>\n",
       "      <td>1</td>\n",
       "      <td>3279</td>\n",
       "      <td>3694516</td>\n",
       "      <td>45.933998</td>\n",
       "      <td>329</td>\n",
       "      <td>638</td>\n",
       "      <td>13.1270</td>\n",
       "      <td>0</td>\n",
       "      <td>1313</td>\n",
       "      <td>380</td>\n",
       "      <td>0.94425</td>\n",
       "    </tr>\n",
       "    <tr>\n",
       "      <th>26755</th>\n",
       "      <td>0</td>\n",
       "      <td>1</td>\n",
       "      <td>1</td>\n",
       "      <td>213</td>\n",
       "      <td>18185084</td>\n",
       "      <td>34.120554</td>\n",
       "      <td>162</td>\n",
       "      <td>65</td>\n",
       "      <td>2.4769</td>\n",
       "      <td>0</td>\n",
       "      <td>168</td>\n",
       "      <td>12</td>\n",
       "      <td>0.57251</td>\n",
       "    </tr>\n",
       "    <tr>\n",
       "      <th>149734</th>\n",
       "      <td>0</td>\n",
       "      <td>0</td>\n",
       "      <td>0</td>\n",
       "      <td>226</td>\n",
       "      <td>0</td>\n",
       "      <td>23.700552</td>\n",
       "      <td>3</td>\n",
       "      <td>99</td>\n",
       "      <td>5.0404</td>\n",
       "      <td>0</td>\n",
       "      <td>119</td>\n",
       "      <td>156</td>\n",
       "      <td>0.45718</td>\n",
       "    </tr>\n",
       "  </tbody>\n",
       "</table>\n",
       "</div>"
      ],
      "text/plain": [
       "         response  var_1  var_2  var_3     var_4      var_5  var_6  var_7  \\\n",
       "user_id                                                                     \n",
       "154531          0      1      1      0   1740115  38.637588     26      0   \n",
       "156315          0      1      1    362   9803192  30.901522     11    237   \n",
       "149607          0      1      1   3279   3694516  45.933998    329    638   \n",
       "26755           0      1      1    213  18185084  34.120554    162     65   \n",
       "149734          0      0      0    226         0  23.700552      3     99   \n",
       "\n",
       "           var_8  var_9  var_10  var_11   var_12  \n",
       "user_id                                           \n",
       "154531    0.0000      0    2542       0  0.87499  \n",
       "156315    1.7553      0     117      17  0.79306  \n",
       "149607   13.1270      0    1313     380  0.94425  \n",
       "26755     2.4769      0     168      12  0.57251  \n",
       "149734    5.0404      0     119     156  0.45718  "
      ]
     },
     "execution_count": 73,
     "metadata": {},
     "output_type": "execute_result"
    }
   ],
   "source": [
    "train.head()"
   ]
  },
  {
   "cell_type": "markdown",
   "metadata": {},
   "source": [
    "## Exploratory Data Analysis "
   ]
  },
  {
   "cell_type": "markdown",
   "metadata": {},
   "source": [
    "The first and most important step for the analysis is to try to have a clear understanding of our data. In order to do this, we checked for missing values, controlled the _balance_ of the two sample of `response`, and took a closer look at the feautures."
   ]
  },
  {
   "cell_type": "code",
   "execution_count": 22,
   "metadata": {},
   "outputs": [
    {
     "data": {
      "text/plain": [
       "<matplotlib.axes._subplots.AxesSubplot at 0x21bf44bde80>"
      ]
     },
     "execution_count": 22,
     "metadata": {},
     "output_type": "execute_result"
    },
    {
     "data": {
      "image/png": "[encoded data removed]",
      "text/plain": [
       "<matplotlib.figure.Figure at 0x21bf44566a0>"
      ]
     },
     "metadata": {},
     "output_type": "display_data"
    }
   ],
   "source": [
    "# Check for Missing Data\n",
    "sns.heatmap(train.isnull(),yticklabels=False,cbar=False,cmap='viridis')"
   ]
  },
  {
   "cell_type": "markdown",
   "metadata": {},
   "source": [
    "From the above heatmap is clear that the dataset does not contain any null value. All the values in the dataset are numeric, so no operation on the features are needed up to this point."
   ]
  },
  {
   "cell_type": "markdown",
   "metadata": {},
   "source": [
    "It is important to check which is the ratio between the two classes of `response` in the dataset, to control if it is balanced or not."
   ]
  },
  {
   "cell_type": "code",
   "execution_count": 75,
   "metadata": {},
   "outputs": [
    {
     "data": {
      "text/plain": [
       "<matplotlib.axes._subplots.AxesSubplot at 0x23719355710>"
      ]
     },
     "execution_count": 75,
     "metadata": {},
     "output_type": "execute_result"
    },
    {
     "data": {
      "image/png": "[encoded data removed]",
      "text/plain": [
       "<matplotlib.figure.Figure at 0x23719355b00>"
      ]
     },
     "metadata": {},
     "output_type": "display_data"
    }
   ],
   "source": [
    "# Chek the percentage of outcome\n",
    "sns.set_style('whitegrid')\n",
    "sns.countplot(x='response',data=train)"
   ]
  },
  {
   "cell_type": "code",
   "execution_count": 76,
   "metadata": {},
   "outputs": [
    {
     "data": {
      "text/plain": [
       "0    4516\n",
       "1     801\n",
       "Name: response, dtype: int64"
      ]
     },
     "execution_count": 76,
     "metadata": {},
     "output_type": "execute_result"
    }
   ],
   "source": [
    "# Calsculate the % of sample\n",
    "train['response'].value_counts()"
   ]
  },
  {
   "cell_type": "markdown",
   "metadata": {},
   "source": [
    "The two classes of `response` are not equally rapresented. 82.3% of sample is 0 and only 17.7% is 1. This could affect the learning model. The predictive model could be biased and inaccurate because the second class is poor represented."
   ]
  },
  {
   "cell_type": "markdown",
   "metadata": {},
   "source": [
    "## A closer look at the features"
   ]
  },
  {
   "cell_type": "markdown",
   "metadata": {},
   "source": [
    "`Vars_1` and `var_2` are categorical variables (0,1), no continuos values. So we could take a look at their relation with the outcome `response` in order to check if they are strong predictor or not. \n",
    "In the _histograms_ below we plotted the `response` variable using color to distinguish the values 0 or 1 in `var_1` and `var_2` variables respectively."
   ]
  },
  {
   "cell_type": "code",
   "execution_count": 289,
   "metadata": {},
   "outputs": [
    {
     "data": {
      "text/plain": [
       "<matplotlib.axes._subplots.AxesSubplot at 0x2371ad653c8>"
      ]
     },
     "execution_count": 289,
     "metadata": {},
     "output_type": "execute_result"
    },
    {
     "data": {
      "image/png": "[encoded data removed]",
      "text/plain": [
       "<matplotlib.figure.Figure at 0x2371b713be0>"
      ]
     },
     "metadata": {},
     "output_type": "display_data"
    }
   ],
   "source": [
    "# Check if var_1 is a strong predictior or not\n",
    "sns.set_style('whitegrid')\n",
    "sns.countplot(x='var_1',hue='response', data=train)"
   ]
  },
  {
   "cell_type": "markdown",
   "metadata": {},
   "source": [
    "As you can see, almost all the values of `response = 1` are contained in `var_1 = 1`. In other words, we can be pretty confident that when `var_1` is 0, the probability to get a `response = 1` is very poor. This is certainly a property that our classifier will take advantage of. \n",
    "\n",
    "A similar behaviour is observed in `var_2` (see plot below)."
   ]
  },
  {
   "cell_type": "code",
   "execution_count": 290,
   "metadata": {},
   "outputs": [
    {
     "data": {
      "text/plain": [
       "<matplotlib.axes._subplots.AxesSubplot at 0x23720517898>"
      ]
     },
     "execution_count": 290,
     "metadata": {},
     "output_type": "execute_result"
    },
    {
     "data": {
      "image/png": "[encoded data removed]",
      "text/plain": [
       "<matplotlib.figure.Figure at 0x2371b1085c0>"
      ]
     },
     "metadata": {},
     "output_type": "display_data"
    }
   ],
   "source": [
    "# Check if var_2 is a strong predictior or not\n",
    "sns.set_style('whitegrid')\n",
    "sns.countplot(x='var_2',hue='response', data=train)"
   ]
  },
  {
   "cell_type": "markdown",
   "metadata": {},
   "source": [
    "Let's take a look to the other variables distribution and their possible correlations. In fact, not having self-explaining names, we do not know what they are and how they could be related to the outcome and between them."
   ]
  },
  {
   "cell_type": "code",
   "execution_count": 80,
   "metadata": {},
   "outputs": [
    {
     "data": {
      "image/png": "[encoded data removed]",
      "text/plain": [
       "<matplotlib.figure.Figure at 0x2371973c828>"
      ]
     },
     "metadata": {},
     "output_type": "display_data"
    }
   ],
   "source": [
    "# Features plots\n",
    "train.hist(figsize=(10,10));"
   ]
  },
  {
   "cell_type": "markdown",
   "metadata": {},
   "source": [
    "From the above distributions it is clear that variables `var_3`, `var_4`, `var_6`, `var_8`, `var_9`, `var_10` and `var_11` present lot of outliers and span multiple order of magnitude.\n",
    "So we could take the logaritimc value and than chek for possible correlations."
   ]
  },
  {
   "cell_type": "markdown",
   "metadata": {},
   "source": [
    "## Taking logaritmic value of some features"
   ]
  },
  {
   "cell_type": "markdown",
   "metadata": {},
   "source": [
    "In order to apply the logaritmic transformation to misbehaving features we created a proper function: `log_transform`, that takes as input the dataset, and the list of variable to transform, and returns the modified data frame."
   ]
  },
  {
   "cell_type": "code",
   "execution_count": 82,
   "metadata": {},
   "outputs": [],
   "source": [
    "# Define a function to apply log to a list of variables\n",
    "def log_transform(df, var_list):\n",
    "    for var in var_list:\n",
    "        df[var] = df[var].apply(lambda x: np.log10(x+1))"
   ]
  },
  {
   "cell_type": "code",
   "execution_count": 83,
   "metadata": {},
   "outputs": [],
   "source": [
    "# apply the func\n",
    "log_transform(train, ['var_3','var_4','var_6','var_8','var_9','var_10','var_11'])"
   ]
  },
  {
   "cell_type": "markdown",
   "metadata": {},
   "source": [
    "Now we could chek for possible correlations visually and than, after that, take a look at the Person coefficient to have a numerical estimation of the correlation."
   ]
  },
  {
   "cell_type": "code",
   "execution_count": 84,
   "metadata": {},
   "outputs": [
    {
     "data": {
      "image/png": "[encoded data removed]",
      "text/plain": [
       "<matplotlib.figure.Figure at 0x2371ae34898>"
      ]
     },
     "metadata": {},
     "output_type": "display_data"
    }
   ],
   "source": [
    "# check the correlation\n",
    "pd.plotting.scatter_matrix(train[['var_3','var_4','var_6', 'var_8','var_9', 'var_10', 'var_11']], figsize=(10, 10))\n",
    "plt.show()"
   ]
  },
  {
   "cell_type": "markdown",
   "metadata": {},
   "source": [
    "From the above scatter plots it appear that with the exception of `var_9`, the other features seems to be all correlated with different intensity. For `var_8` and `var_11` the correlation is really strong. They are also correlated with `var_3`.\n",
    "We have checked also the Person coefficient to have a numeric estimation of the correlation."
   ]
  },
  {
   "cell_type": "code",
   "execution_count": 85,
   "metadata": {},
   "outputs": [
    {
     "data": {
      "text/plain": [
       "<matplotlib.axes._subplots.AxesSubplot at 0x2371b9e95c0>"
      ]
     },
     "execution_count": 85,
     "metadata": {},
     "output_type": "execute_result"
    },
    {
     "data": {
      "image/png": "[encoded data removed]",
      "text/plain": [
       "<matplotlib.figure.Figure at 0x2371b543898>"
      ]
     },
     "metadata": {},
     "output_type": "display_data"
    }
   ],
   "source": [
    "# check the perasons coefficients\n",
    "corr_matrix = train.corr()\n",
    "#corr_matrix\n",
    "# plot the heatmap\n",
    "plt.subplots(figsize=(9,9))\n",
    "sns.heatmap(corr_matrix, annot=True, xticklabels=corr_matrix.columns, yticklabels=corr_matrix.columns)"
   ]
  },
  {
   "cell_type": "markdown",
   "metadata": {},
   "source": [
    "So, from the above heatmap appears also some correlation between _normal_ features and _misbehaving_. For example, `var_5` and `var_6`, `var_10` and `var_2`. Furthemore, `var_4` seems to be _anticorrelated_ with `var_3`, and slightly also with `var_6` and `var_8`. So we decide to try to use only a subsample of features to train the learnig model."
   ]
  },
  {
   "cell_type": "markdown",
   "metadata": {},
   "source": [
    "## Support Vector Machine Classifier (SVM)"
   ]
  },
  {
   "cell_type": "markdown",
   "metadata": {},
   "source": [
    "As first attempt to model our dataset, we build a SVM classifier using only a subset of features.\n",
    "So first of all, we selected the features."
   ]
  },
  {
   "cell_type": "code",
   "execution_count": 176,
   "metadata": {},
   "outputs": [
    {
     "data": {
      "text/html": [
       "<div>\n",
       "<style scoped>\n",
       "    .dataframe tbody tr th:only-of-type {\n",
       "        vertical-align: middle;\n",
       "    }\n",
       "\n",
       "    .dataframe tbody tr th {\n",
       "        vertical-align: top;\n",
       "    }\n",
       "\n",
       "    .dataframe thead th {\n",
       "        text-align: right;\n",
       "    }\n",
       "</style>\n",
       "<table border=\"1\" class=\"dataframe\">\n",
       "  <thead>\n",
       "    <tr style=\"text-align: right;\">\n",
       "      <th></th>\n",
       "      <th>response</th>\n",
       "      <th>var_1</th>\n",
       "      <th>var_2</th>\n",
       "      <th>var_5</th>\n",
       "      <th>var_7</th>\n",
       "      <th>var_12</th>\n",
       "    </tr>\n",
       "    <tr>\n",
       "      <th>user_id</th>\n",
       "      <th></th>\n",
       "      <th></th>\n",
       "      <th></th>\n",
       "      <th></th>\n",
       "      <th></th>\n",
       "      <th></th>\n",
       "    </tr>\n",
       "  </thead>\n",
       "  <tbody>\n",
       "    <tr>\n",
       "      <th>154531</th>\n",
       "      <td>0</td>\n",
       "      <td>1</td>\n",
       "      <td>1</td>\n",
       "      <td>38.637588</td>\n",
       "      <td>0</td>\n",
       "      <td>0.87499</td>\n",
       "    </tr>\n",
       "    <tr>\n",
       "      <th>156315</th>\n",
       "      <td>0</td>\n",
       "      <td>1</td>\n",
       "      <td>1</td>\n",
       "      <td>30.901522</td>\n",
       "      <td>237</td>\n",
       "      <td>0.79306</td>\n",
       "    </tr>\n",
       "    <tr>\n",
       "      <th>149607</th>\n",
       "      <td>0</td>\n",
       "      <td>1</td>\n",
       "      <td>1</td>\n",
       "      <td>45.933998</td>\n",
       "      <td>638</td>\n",
       "      <td>0.94425</td>\n",
       "    </tr>\n",
       "    <tr>\n",
       "      <th>26755</th>\n",
       "      <td>0</td>\n",
       "      <td>1</td>\n",
       "      <td>1</td>\n",
       "      <td>34.120554</td>\n",
       "      <td>65</td>\n",
       "      <td>0.57251</td>\n",
       "    </tr>\n",
       "    <tr>\n",
       "      <th>149734</th>\n",
       "      <td>0</td>\n",
       "      <td>0</td>\n",
       "      <td>0</td>\n",
       "      <td>23.700552</td>\n",
       "      <td>99</td>\n",
       "      <td>0.45718</td>\n",
       "    </tr>\n",
       "  </tbody>\n",
       "</table>\n",
       "</div>"
      ],
      "text/plain": [
       "         response  var_1  var_2      var_5  var_7   var_12\n",
       "user_id                                                   \n",
       "154531          0      1      1  38.637588      0  0.87499\n",
       "156315          0      1      1  30.901522    237  0.79306\n",
       "149607          0      1      1  45.933998    638  0.94425\n",
       "26755           0      1      1  34.120554     65  0.57251\n",
       "149734          0      0      0  23.700552     99  0.45718"
      ]
     },
     "execution_count": 176,
     "metadata": {},
     "output_type": "execute_result"
    }
   ],
   "source": [
    "# Subsetting the train dataset\n",
    "trainmod = train[['response','var_1','var_2','var_5','var_7','var_12']]\n",
    "trainmod.head()"
   ]
  },
  {
   "cell_type": "markdown",
   "metadata": {},
   "source": [
    "Un important step in the building and training our model is to divide our datset in a train and a test sample. So we could use the test sample to evaluate the model performances."
   ]
  },
  {
   "cell_type": "code",
   "execution_count": 190,
   "metadata": {},
   "outputs": [],
   "source": [
    "# Split the dataset in train and test\n",
    "from sklearn.model_selection import train_test_split\n",
    "X_train, X_test, y_train, y_test = train_test_split(trainmod.drop('response',axis=1), \n",
    "                                                    trainmod['response'], test_size=0.30, \n",
    "                                                    random_state=101)"
   ]
  },
  {
   "cell_type": "markdown",
   "metadata": {},
   "source": [
    "### Features Scaling"
   ]
  },
  {
   "cell_type": "markdown",
   "metadata": {},
   "source": [
    "In order to have better results from the **SVM** classifier we need to rescale our features."
   ]
  },
  {
   "cell_type": "code",
   "execution_count": 191,
   "metadata": {},
   "outputs": [],
   "source": [
    "# Features rescaling\n",
    "from sklearn.preprocessing import StandardScaler\n",
    "scaler = StandardScaler()\n",
    "\n",
    "scaler.fit(X_train)\n",
    "X_train=scaler.transform(X_train)\n",
    "X_test=scaler.transform(X_test)"
   ]
  },
  {
   "cell_type": "markdown",
   "metadata": {},
   "source": [
    "### Build the classifier"
   ]
  },
  {
   "cell_type": "markdown",
   "metadata": {},
   "source": [
    "Now we are ready to build the classifier. We used the `class_weight='balanced'` parameter to try to taking into account the bad balance of our dataset, where the _class_ 0 is the most represented."
   ]
  },
  {
   "cell_type": "code",
   "execution_count": 179,
   "metadata": {},
   "outputs": [],
   "source": [
    "# Buiding the classifier\n",
    "from sklearn.svm import SVC\n",
    "svc_model = SVC(class_weight='balanced')"
   ]
  },
  {
   "cell_type": "code",
   "execution_count": 180,
   "metadata": {},
   "outputs": [
    {
     "data": {
      "text/plain": [
       "SVC(C=1.0, cache_size=200, class_weight='balanced', coef0=0.0,\n",
       "  decision_function_shape='ovr', degree=3, gamma='auto', kernel='rbf',\n",
       "  max_iter=-1, probability=False, random_state=None, shrinking=True,\n",
       "  tol=0.001, verbose=False)"
      ]
     },
     "execution_count": 180,
     "metadata": {},
     "output_type": "execute_result"
    }
   ],
   "source": [
    "# Model fit\n",
    "svc_model.fit(X_train,y_train)"
   ]
  },
  {
   "cell_type": "code",
   "execution_count": 181,
   "metadata": {},
   "outputs": [],
   "source": [
    "# Model predictions\n",
    "svc_pred = svc_model.predict(X_test)"
   ]
  },
  {
   "cell_type": "markdown",
   "metadata": {},
   "source": [
    "### Model evaluation"
   ]
  },
  {
   "cell_type": "markdown",
   "metadata": {},
   "source": [
    "Finally we need to evaluate our model in order to estimate his performances. We could take a look at the **_Confusion Matrix_** and at some estimators like **_accurancy_**, **_precision_**, **_recal_** and **_F1-score_**."
   ]
  },
  {
   "cell_type": "code",
   "execution_count": 182,
   "metadata": {},
   "outputs": [
    {
     "name": "stdout",
     "output_type": "stream",
     "text": [
      "Confusion matrix, without normalization\n",
      "[[1043  281]\n",
      " [  43  229]]\n",
      "Normalized confusion matrix\n",
      "[[0.79 0.21]\n",
      " [0.16 0.84]]\n"
     ]
    },
    {
     "data": {
      "image/png": "[encoded data removed]",
      "text/plain": [
       "<matplotlib.figure.Figure at 0x2371e49ecc0>"
      ]
     },
     "metadata": {},
     "output_type": "display_data"
    },
    {
     "data": {
      "image/png": "[encoded data removed]",
      "text/plain": [
       "<matplotlib.figure.Figure at 0x2371e4a6470>"
      ]
     },
     "metadata": {},
     "output_type": "display_data"
    },
    {
     "name": "stdout",
     "output_type": "stream",
     "text": [
      "             precision    recall  f1-score   support\n",
      "\n",
      "          0       0.96      0.79      0.87      1324\n",
      "          1       0.45      0.84      0.59       272\n",
      "\n",
      "avg / total       0.87      0.80      0.82      1596\n",
      "\n"
     ]
    }
   ],
   "source": [
    "# Model eveluation\n",
    "import itertools\n",
    "from sklearn.metrics import classification_report,confusion_matrix\n",
    "from sklearn import metrics\n",
    "\n",
    "def plot_confusion_matrix(cm, classes,\n",
    "                          normalize=False,\n",
    "                          title='Confusion matrix',\n",
    "                          cmap=plt.cm.Blues):\n",
    "    \"\"\"\n",
    "    This function prints and plots the confusion matrix.\n",
    "    Normalization can be applied by setting `normalize=True`.\n",
    "    \"\"\"\n",
    "    if normalize:\n",
    "        cm = cm.astype('float') / cm.sum(axis=1)[:, np.newaxis]\n",
    "        print(\"Normalized confusion matrix\")\n",
    "    else:\n",
    "        print('Confusion matrix, without normalization')\n",
    "\n",
    "    print(cm)\n",
    "\n",
    "    plt.imshow(cm, interpolation='nearest', cmap=cmap)\n",
    "    plt.title(title)\n",
    "    #plt.colorbar()\n",
    "    tick_marks = np.arange(len(classes))\n",
    "    #plt.xticks(tick_marks, classes, rotation=45)\n",
    "    plt.xticks(tick_marks, classes)\n",
    "    plt.yticks(tick_marks, classes)\n",
    "\n",
    "    fmt = '.2f' if normalize else 'd'\n",
    "    thresh = cm.max() / 2.\n",
    "    for i, j in itertools.product(range(cm.shape[0]), range(cm.shape[1])):\n",
    "        plt.text(j, i, format(cm[i, j], fmt),\n",
    "                 horizontalalignment=\"center\",\n",
    "                 color=\"white\" if cm[i, j] > thresh else \"black\")\n",
    "\n",
    "    plt.tight_layout()\n",
    "    plt.ylabel('True label')\n",
    "    plt.xlabel('Predicted label')\n",
    "\n",
    "# Compute confusion matrix\n",
    "cnf_matrix = confusion_matrix(y_test,svc_pred)\n",
    "np.set_printoptions(precision=2)\n",
    "\n",
    "class_names = ['0', '1']\n",
    "\n",
    "# Plot non-normalized confusion matrix\n",
    "plt.figure()\n",
    "plot_confusion_matrix(cnf_matrix, classes=class_names,\n",
    "                      title='Confusion matrix, without normalization')\n",
    "\n",
    "# Plot normalized confusion matrix\n",
    "plt.figure()\n",
    "plot_confusion_matrix(cnf_matrix, classes=class_names, normalize=True,\n",
    "                      title='Normalized confusion matrix')\n",
    "\n",
    "plt.show()\n",
    "#accurancy = float(cnf_matrix[0][0] + cnf_matrix[1][1])/cnf_matrix.sum()\n",
    "#print(accurancy)\n",
    "print(classification_report(y_test,svc_pred))"
   ]
  },
  {
   "cell_type": "markdown",
   "metadata": {},
   "source": [
    "With the **SVM** classifier we obtained a ***_True Positive Rate_*** (**_Recall_** or **_Sensitivity_**) of 79% for `response` class 0 and 84% for `response` class 1. Those values are not so high, but correclty balanced, taking into account the different weight of the two samples.  "
   ]
  },
  {
   "cell_type": "markdown",
   "metadata": {},
   "source": [
    "## Random Forest Classifier"
   ]
  },
  {
   "cell_type": "markdown",
   "metadata": {},
   "source": [
    "In order to try to obtain a better classification for our dataset, we builded also a **Random Forest classifier**, with the same subset of features."
   ]
  },
  {
   "cell_type": "code",
   "execution_count": 95,
   "metadata": {},
   "outputs": [],
   "source": [
    "from sklearn.ensemble import RandomForestClassifier\n",
    "rfc = RandomForestClassifier(class_weight='balanced', n_estimators=101)"
   ]
  },
  {
   "cell_type": "code",
   "execution_count": 96,
   "metadata": {},
   "outputs": [
    {
     "data": {
      "text/plain": [
       "RandomForestClassifier(bootstrap=True, class_weight='balanced',\n",
       "            criterion='gini', max_depth=None, max_features='auto',\n",
       "            max_leaf_nodes=None, min_impurity_decrease=0.0,\n",
       "            min_impurity_split=None, min_samples_leaf=1,\n",
       "            min_samples_split=2, min_weight_fraction_leaf=0.0,\n",
       "            n_estimators=101, n_jobs=1, oob_score=False, random_state=None,\n",
       "            verbose=0, warm_start=False)"
      ]
     },
     "execution_count": 96,
     "metadata": {},
     "output_type": "execute_result"
    }
   ],
   "source": [
    "rfc.fit(X_train, y_train)"
   ]
  },
  {
   "cell_type": "code",
   "execution_count": 97,
   "metadata": {},
   "outputs": [],
   "source": [
    "rfc_pred = rfc.predict(X_test)"
   ]
  },
  {
   "cell_type": "code",
   "execution_count": 117,
   "metadata": {},
   "outputs": [
    {
     "name": "stdout",
     "output_type": "stream",
     "text": [
      "Confusion matrix, without normalization\n",
      "[[1266   58]\n",
      " [ 151  121]]\n",
      "Normalized confusion matrix\n",
      "[[0.96 0.04]\n",
      " [0.56 0.44]]\n"
     ]
    },
    {
     "data": {
      "image/png": "[encoded data removed]",
      "text/plain": [
       "<matplotlib.figure.Figure at 0x2371e483d30>"
      ]
     },
     "metadata": {},
     "output_type": "display_data"
    },
    {
     "data": {
      "image/png": "[encoded data removed]",
      "text/plain": [
       "<matplotlib.figure.Figure at 0x2371e48a438>"
      ]
     },
     "metadata": {},
     "output_type": "display_data"
    },
    {
     "name": "stdout",
     "output_type": "stream",
     "text": [
      "             precision    recall  f1-score   support\n",
      "\n",
      "          0       0.89      0.96      0.92      1324\n",
      "          1       0.68      0.44      0.54       272\n",
      "\n",
      "avg / total       0.86      0.87      0.86      1596\n",
      "\n"
     ]
    }
   ],
   "source": [
    "# Compute confusion matrix\n",
    "cnf_matrix = confusion_matrix(y_test, rfc_pred)\n",
    "np.set_printoptions(precision=2)\n",
    "\n",
    "class_names = ['0', '1']\n",
    "\n",
    "# Plot non-normalized confusion matrix\n",
    "plt.figure()\n",
    "plot_confusion_matrix(cnf_matrix, classes=class_names,\n",
    "                      title='Confusion matrix, without normalization')\n",
    "\n",
    "# Plot normalized confusion matrix\n",
    "plt.figure()\n",
    "plot_confusion_matrix(cnf_matrix, classes=class_names, normalize=True,\n",
    "                      title='Normalized confusion matrix')\n",
    "\n",
    "plt.show()\n",
    "#accurancy = float(cnf_matrix[0][0] + cnf_matrix[1][1])/cnf_matrix.sum()\n",
    "#print(accurancy)\n",
    "print(classification_report(y_test,rfc_pred))"
   ]
  },
  {
   "cell_type": "markdown",
   "metadata": {},
   "source": [
    "Using the **Random Forest** classifier the **_sensitivity_** for `response` 0 is quite better than the results of the **SVM**, respectively 96% and 79%. But for `response` 1 the **_True Positive Rate_** is very bad, 44% versus 84% with **SVM** classifier.\n",
    "So, we could say that the **Support Vector Machine** represents a good model to fit our dataset, and we will use it for _predictions_ of new data."
   ]
  },
  {
   "cell_type": "markdown",
   "metadata": {},
   "source": [
    "## Data Cleaning and Features Transformation"
   ]
  },
  {
   "cell_type": "markdown",
   "metadata": {},
   "source": [
    "As last step of our analysis we tryied to re-apply the learning model using all the features in order to check if the algorithm performances became better. \n",
    "But, to be useful, `var_3`, `var_4`, `var_6`, `var_9` and `var_10` need to be cleaned. \n",
    "Following plots show a closer look at those _critical_ variables. We cutted the outliers values and took the logaritmic values in order to reduce the number of order of magnitude spanned from the variables."
   ]
  },
  {
   "cell_type": "code",
   "execution_count": 118,
   "metadata": {},
   "outputs": [
    {
     "data": {
      "text/plain": [
       "<matplotlib.axes._subplots.AxesSubplot at 0x2371e3b8400>"
      ]
     },
     "execution_count": 118,
     "metadata": {},
     "output_type": "execute_result"
    },
    {
     "data": {
      "image/png": "[encoded data removed]",
      "text/plain": [
       "<matplotlib.figure.Figure at 0x2371e279eb8>"
      ]
     },
     "metadata": {},
     "output_type": "display_data"
    }
   ],
   "source": [
    "# Plot var_3\n",
    "train['var_3'].hist(bins=100,color='darkred',alpha=0.7, log=True)"
   ]
  },
  {
   "cell_type": "code",
   "execution_count": 119,
   "metadata": {},
   "outputs": [
    {
     "data": {
      "text/plain": [
       "<matplotlib.axes._subplots.AxesSubplot at 0x23719a1c8d0>"
      ]
     },
     "execution_count": 119,
     "metadata": {},
     "output_type": "execute_result"
    },
    {
     "data": {
      "image/png": "[encoded data removed]",
      "text/plain": [
       "<matplotlib.figure.Figure at 0x23718ee7cc0>"
      ]
     },
     "metadata": {},
     "output_type": "display_data"
    }
   ],
   "source": [
    "train['var_4'].hist(bins=50,alpha=0.7,color='darkred',log=True)"
   ]
  },
  {
   "cell_type": "markdown",
   "metadata": {},
   "source": [
    "It seams all the values of `var_4` are concentraded  at 0 and than there is a very long tail. "
   ]
  },
  {
   "cell_type": "code",
   "execution_count": 120,
   "metadata": {},
   "outputs": [
    {
     "data": {
      "text/plain": [
       "<matplotlib.axes._subplots.AxesSubplot at 0x2371b22eeb8>"
      ]
     },
     "execution_count": 120,
     "metadata": {},
     "output_type": "execute_result"
    },
    {
     "data": {
      "image/png": "[encoded data removed]",
      "text/plain": [
       "<matplotlib.figure.Figure at 0x2371b1cc550>"
      ]
     },
     "metadata": {},
     "output_type": "display_data"
    }
   ],
   "source": [
    "train['var_6'].hist(bins=50,color='darkred',alpha=0.7, log=True)"
   ]
  },
  {
   "cell_type": "code",
   "execution_count": 121,
   "metadata": {},
   "outputs": [
    {
     "data": {
      "text/plain": [
       "<matplotlib.axes._subplots.AxesSubplot at 0x2371e1376d8>"
      ]
     },
     "execution_count": 121,
     "metadata": {},
     "output_type": "execute_result"
    },
    {
     "data": {
      "image/png": "[encoded data removed]",
      "text/plain": [
       "<matplotlib.figure.Figure at 0x2371b4d54a8>"
      ]
     },
     "metadata": {},
     "output_type": "display_data"
    }
   ],
   "source": [
    "train['var_9'].hist(bins=50,color='darkred',alpha=0.7, log=True)"
   ]
  },
  {
   "cell_type": "code",
   "execution_count": 122,
   "metadata": {},
   "outputs": [
    {
     "data": {
      "text/plain": [
       "<matplotlib.axes._subplots.AxesSubplot at 0x2371b3ebba8>"
      ]
     },
     "execution_count": 122,
     "metadata": {},
     "output_type": "execute_result"
    },
    {
     "data": {
      "image/png": "[encoded data removed]",
      "text/plain": [
       "<matplotlib.figure.Figure at 0x2371b3ec978>"
      ]
     },
     "metadata": {},
     "output_type": "display_data"
    }
   ],
   "source": [
    "train['var_10'].hist(bins=50,color='darkred',alpha=0.7, log=True)"
   ]
  },
  {
   "cell_type": "markdown",
   "metadata": {},
   "source": [
    "## Training SVM model after data cleaning"
   ]
  },
  {
   "cell_type": "markdown",
   "metadata": {},
   "source": [
    "After features transformation, we applyied the **SVM** classifier with the complete list of features, removing only features higly correlated: `var_4`, `var_8` and `var_11`."
   ]
  },
  {
   "cell_type": "code",
   "execution_count": 233,
   "metadata": {},
   "outputs": [],
   "source": [
    "# Subsetting the train dataset\n",
    "new_trainmod = train[['response','var_1','var_2', 'var_3','var_5', 'var_6','var_7', 'var_9', 'var_10','var_12']]"
   ]
  },
  {
   "cell_type": "code",
   "execution_count": 234,
   "metadata": {},
   "outputs": [],
   "source": [
    "# Split samples\n",
    "X_train, X_test, y_train, y_test = train_test_split(new_trainmod.drop('response',axis=1), \n",
    "                                                    new_trainmod['response'], test_size=0.30, \n",
    "                                                    random_state=101)"
   ]
  },
  {
   "cell_type": "code",
   "execution_count": 235,
   "metadata": {},
   "outputs": [],
   "source": [
    "# Rescaling features\n",
    "newscaler = StandardScaler()\n",
    "newscaler.fit(X_train)\n",
    "X_train = newscaler.transform(X_train)\n",
    "X_test = newscaler.transform(X_test)"
   ]
  },
  {
   "cell_type": "code",
   "execution_count": 236,
   "metadata": {},
   "outputs": [
    {
     "data": {
      "text/plain": [
       "SVC(C=1.0, cache_size=200, class_weight='balanced', coef0=0.0,\n",
       "  decision_function_shape='ovr', degree=3, gamma='auto', kernel='rbf',\n",
       "  max_iter=-1, probability=False, random_state=None, shrinking=True,\n",
       "  tol=0.001, verbose=False)"
      ]
     },
     "execution_count": 236,
     "metadata": {},
     "output_type": "execute_result"
    }
   ],
   "source": [
    "# Model fit\n",
    "svc_new_model = SVC(class_weight='balanced')\n",
    "svc_new_model.fit(X_train,y_train)"
   ]
  },
  {
   "cell_type": "code",
   "execution_count": 237,
   "metadata": {},
   "outputs": [],
   "source": [
    "# Model predictions\n",
    "svc_new_pred = svc_new_model.predict(X_test)"
   ]
  },
  {
   "cell_type": "code",
   "execution_count": 238,
   "metadata": {},
   "outputs": [
    {
     "name": "stdout",
     "output_type": "stream",
     "text": [
      "Confusion matrix, without normalization\n",
      "[[1046  278]\n",
      " [  44  228]]\n",
      "Normalized confusion matrix\n",
      "[[0.79 0.21]\n",
      " [0.16 0.84]]\n"
     ]
    },
    {
     "data": {
      "image/png": "[encoded data removed]",
      "text/plain": [
       "<matplotlib.figure.Figure at 0x2371b29ac50>"
      ]
     },
     "metadata": {},
     "output_type": "display_data"
    },
    {
     "data": {
      "image/png": "[encoded data removed]",
      "text/plain": [
       "<matplotlib.figure.Figure at 0x2371ba6d278>"
      ]
     },
     "metadata": {},
     "output_type": "display_data"
    },
    {
     "name": "stdout",
     "output_type": "stream",
     "text": [
      "             precision    recall  f1-score   support\n",
      "\n",
      "          0       0.96      0.79      0.87      1324\n",
      "          1       0.45      0.84      0.59       272\n",
      "\n",
      "avg / total       0.87      0.80      0.82      1596\n",
      "\n"
     ]
    }
   ],
   "source": [
    "# Compute confusion matrix\n",
    "cnf_matrix = confusion_matrix(y_test, svc_new_pred)\n",
    "np.set_printoptions(precision=2)\n",
    "\n",
    "class_names = ['0', '1']\n",
    "\n",
    "# Plot non-normalized confusion matrix\n",
    "plt.figure()\n",
    "plot_confusion_matrix(cnf_matrix, classes=class_names,\n",
    "                      title='Confusion matrix, without normalization')\n",
    "\n",
    "# Plot normalized confusion matrix\n",
    "plt.figure()\n",
    "plot_confusion_matrix(cnf_matrix, classes=class_names, normalize=True,\n",
    "                      title='Normalized confusion matrix')\n",
    "\n",
    "plt.show()\n",
    "#accurancy = float(cnf_matrix[0][0] + cnf_matrix[1][1])/cnf_matrix.sum()\n",
    "#print(accurancy)\n",
    "print(classification_report(y_test,svc_new_pred))"
   ]
  },
  {
   "cell_type": "markdown",
   "metadata": {},
   "source": [
    "New results are completely comparable with the model builded and trained with only the subset of the features. The inclusion of the other features did not improved the performances of the learning algorithm, as aspected. \n",
    "Indeed, even after the _logarithimc_ transformation most part of the features values are concentrated at zero, suppressing the weight of the other values. \n",
    "Unfortunatly we cannot remove those _sparks_ at zero from the dataset without loosing the most part of it. We tried and we obtained only few hundreds of data, quite unuseful to build and train whatever learning model.\n",
    "\n",
    "In search of better performances, we also used **GridSearch** to try to optimize the paramenters _C_ and _gamma_ of the **SVM** models, but with the option _class_weight='balanced'_ GridSearchCV diverged resulting in a totally wrong classification."
   ]
  },
  {
   "cell_type": "markdown",
   "metadata": {},
   "source": [
    "## New data classification with SVM algorithm"
   ]
  },
  {
   "cell_type": "markdown",
   "metadata": {},
   "source": [
    "At this point we will use the trained **SVM** model to predict the `response` on a new dataset. \n",
    "First of all, we need to import the new data in a Pandas dataframe and apply all the transformation we did on training sample."
   ]
  },
  {
   "cell_type": "code",
   "execution_count": 199,
   "metadata": {},
   "outputs": [
    {
     "data": {
      "text/html": [
       "<div>\n",
       "<style scoped>\n",
       "    .dataframe tbody tr th:only-of-type {\n",
       "        vertical-align: middle;\n",
       "    }\n",
       "\n",
       "    .dataframe tbody tr th {\n",
       "        vertical-align: top;\n",
       "    }\n",
       "\n",
       "    .dataframe thead th {\n",
       "        text-align: right;\n",
       "    }\n",
       "</style>\n",
       "<table border=\"1\" class=\"dataframe\">\n",
       "  <thead>\n",
       "    <tr style=\"text-align: right;\">\n",
       "      <th></th>\n",
       "      <th>var_1</th>\n",
       "      <th>var_2</th>\n",
       "      <th>var_3</th>\n",
       "      <th>var_4</th>\n",
       "      <th>var_5</th>\n",
       "      <th>var_6</th>\n",
       "      <th>var_7</th>\n",
       "      <th>var_8</th>\n",
       "      <th>var_9</th>\n",
       "      <th>var_10</th>\n",
       "      <th>var_11</th>\n",
       "      <th>var_12</th>\n",
       "      <th>user_id</th>\n",
       "    </tr>\n",
       "  </thead>\n",
       "  <tbody>\n",
       "    <tr>\n",
       "      <th>0</th>\n",
       "      <td>1</td>\n",
       "      <td>1</td>\n",
       "      <td>193</td>\n",
       "      <td>11248797</td>\n",
       "      <td>33.254023</td>\n",
       "      <td>17</td>\n",
       "      <td>40</td>\n",
       "      <td>77.7500</td>\n",
       "      <td>0</td>\n",
       "      <td>583</td>\n",
       "      <td>3055</td>\n",
       "      <td>0.60563</td>\n",
       "      <td>154472</td>\n",
       "    </tr>\n",
       "    <tr>\n",
       "      <th>1</th>\n",
       "      <td>1</td>\n",
       "      <td>1</td>\n",
       "      <td>14631</td>\n",
       "      <td>2396429</td>\n",
       "      <td>42.681445</td>\n",
       "      <td>1005</td>\n",
       "      <td>1582</td>\n",
       "      <td>56.3211</td>\n",
       "      <td>0</td>\n",
       "      <td>4082</td>\n",
       "      <td>53187</td>\n",
       "      <td>0.88451</td>\n",
       "      <td>151147</td>\n",
       "    </tr>\n",
       "    <tr>\n",
       "      <th>2</th>\n",
       "      <td>1</td>\n",
       "      <td>1</td>\n",
       "      <td>385</td>\n",
       "      <td>3521953</td>\n",
       "      <td>33.501102</td>\n",
       "      <td>294</td>\n",
       "      <td>105</td>\n",
       "      <td>8.4952</td>\n",
       "      <td>26</td>\n",
       "      <td>162</td>\n",
       "      <td>37</td>\n",
       "      <td>0.86154</td>\n",
       "      <td>10543</td>\n",
       "    </tr>\n",
       "    <tr>\n",
       "      <th>3</th>\n",
       "      <td>0</td>\n",
       "      <td>0</td>\n",
       "      <td>0</td>\n",
       "      <td>0</td>\n",
       "      <td>0.000000</td>\n",
       "      <td>0</td>\n",
       "      <td>0</td>\n",
       "      <td>0.0000</td>\n",
       "      <td>0</td>\n",
       "      <td>0</td>\n",
       "      <td>0</td>\n",
       "      <td>0.10018</td>\n",
       "      <td>136986</td>\n",
       "    </tr>\n",
       "    <tr>\n",
       "      <th>4</th>\n",
       "      <td>1</td>\n",
       "      <td>1</td>\n",
       "      <td>6672</td>\n",
       "      <td>2913930</td>\n",
       "      <td>34.344784</td>\n",
       "      <td>10582</td>\n",
       "      <td>30</td>\n",
       "      <td>0.7667</td>\n",
       "      <td>0</td>\n",
       "      <td>133</td>\n",
       "      <td>7</td>\n",
       "      <td>0.68598</td>\n",
       "      <td>137008</td>\n",
       "    </tr>\n",
       "  </tbody>\n",
       "</table>\n",
       "</div>"
      ],
      "text/plain": [
       "   var_1  var_2  var_3     var_4      var_5  var_6  var_7    var_8  var_9  \\\n",
       "0      1      1    193  11248797  33.254023     17     40  77.7500      0   \n",
       "1      1      1  14631   2396429  42.681445   1005   1582  56.3211      0   \n",
       "2      1      1    385   3521953  33.501102    294    105   8.4952     26   \n",
       "3      0      0      0         0   0.000000      0      0   0.0000      0   \n",
       "4      1      1   6672   2913930  34.344784  10582     30   0.7667      0   \n",
       "\n",
       "   var_10  var_11   var_12  user_id  \n",
       "0     583    3055  0.60563   154472  \n",
       "1    4082   53187  0.88451   151147  \n",
       "2     162      37  0.86154    10543  \n",
       "3       0       0  0.10018   136986  \n",
       "4     133       7  0.68598   137008  "
      ]
     },
     "execution_count": 199,
     "metadata": {},
     "output_type": "execute_result"
    }
   ],
   "source": [
    "# Import data\n",
    "test = pd.read_csv('data/model_test_file.csv')\n",
    "test.head()"
   ]
  },
  {
   "cell_type": "markdown",
   "metadata": {},
   "source": [
    "We need to remove same features as in the training analysis that results in a better performances. So we exclude `var_3`, `var_4`, `var_6`, `var_8`, `var_9`, `var_10` and `var_11`."
   ]
  },
  {
   "cell_type": "code",
   "execution_count": 200,
   "metadata": {},
   "outputs": [
    {
     "data": {
      "text/html": [
       "<div>\n",
       "<style scoped>\n",
       "    .dataframe tbody tr th:only-of-type {\n",
       "        vertical-align: middle;\n",
       "    }\n",
       "\n",
       "    .dataframe tbody tr th {\n",
       "        vertical-align: top;\n",
       "    }\n",
       "\n",
       "    .dataframe thead th {\n",
       "        text-align: right;\n",
       "    }\n",
       "</style>\n",
       "<table border=\"1\" class=\"dataframe\">\n",
       "  <thead>\n",
       "    <tr style=\"text-align: right;\">\n",
       "      <th></th>\n",
       "      <th>var_1</th>\n",
       "      <th>var_2</th>\n",
       "      <th>var_5</th>\n",
       "      <th>var_7</th>\n",
       "      <th>var_12</th>\n",
       "    </tr>\n",
       "    <tr>\n",
       "      <th>user_id</th>\n",
       "      <th></th>\n",
       "      <th></th>\n",
       "      <th></th>\n",
       "      <th></th>\n",
       "      <th></th>\n",
       "    </tr>\n",
       "  </thead>\n",
       "  <tbody>\n",
       "    <tr>\n",
       "      <th>154472</th>\n",
       "      <td>1</td>\n",
       "      <td>1</td>\n",
       "      <td>33.254023</td>\n",
       "      <td>40</td>\n",
       "      <td>0.60563</td>\n",
       "    </tr>\n",
       "    <tr>\n",
       "      <th>151147</th>\n",
       "      <td>1</td>\n",
       "      <td>1</td>\n",
       "      <td>42.681445</td>\n",
       "      <td>1582</td>\n",
       "      <td>0.88451</td>\n",
       "    </tr>\n",
       "    <tr>\n",
       "      <th>10543</th>\n",
       "      <td>1</td>\n",
       "      <td>1</td>\n",
       "      <td>33.501102</td>\n",
       "      <td>105</td>\n",
       "      <td>0.86154</td>\n",
       "    </tr>\n",
       "    <tr>\n",
       "      <th>136986</th>\n",
       "      <td>0</td>\n",
       "      <td>0</td>\n",
       "      <td>0.000000</td>\n",
       "      <td>0</td>\n",
       "      <td>0.10018</td>\n",
       "    </tr>\n",
       "    <tr>\n",
       "      <th>137008</th>\n",
       "      <td>1</td>\n",
       "      <td>1</td>\n",
       "      <td>34.344784</td>\n",
       "      <td>30</td>\n",
       "      <td>0.68598</td>\n",
       "    </tr>\n",
       "  </tbody>\n",
       "</table>\n",
       "</div>"
      ],
      "text/plain": [
       "         var_1  var_2      var_5  var_7   var_12\n",
       "user_id                                         \n",
       "154472       1      1  33.254023     40  0.60563\n",
       "151147       1      1  42.681445   1582  0.88451\n",
       "10543        1      1  33.501102    105  0.86154\n",
       "136986       0      0   0.000000      0  0.10018\n",
       "137008       1      1  34.344784     30  0.68598"
      ]
     },
     "execution_count": 200,
     "metadata": {},
     "output_type": "execute_result"
    }
   ],
   "source": [
    "# Drop misbehaving features\n",
    "#test.drop(['var_3', 'var_4','var_6','var_8','var_9','var_10','var_11','user_id'],axis=1,inplace=True)\n",
    "testmod = test.drop(['var_3', 'var_4','var_6','var_8','var_9','var_10','var_11'],axis=1)\n",
    "# Set user_id as index\n",
    "testmod = testmod.set_index('user_id')\n",
    "testmod.head()"
   ]
  },
  {
   "cell_type": "markdown",
   "metadata": {},
   "source": [
    "Now, we need to _reshape_ a bit the data frame to have the right format for the learning model."
   ]
  },
  {
   "cell_type": "code",
   "execution_count": 202,
   "metadata": {},
   "outputs": [],
   "source": [
    "# Reshaping\n",
    "X_test_newsample = testmod.as_matrix()"
   ]
  },
  {
   "cell_type": "markdown",
   "metadata": {},
   "source": [
    "Now we are ready to apply the **SVM** model we builded and trained with only the _good_ features. \n",
    "But firt we have to _rescale_ also the new test data."
   ]
  },
  {
   "cell_type": "code",
   "execution_count": 203,
   "metadata": {},
   "outputs": [],
   "source": [
    "# rescaling\n",
    "X_test_newsample = scaler.transform(X_test_newsample)"
   ]
  },
  {
   "cell_type": "markdown",
   "metadata": {},
   "source": [
    "The predictions of our **SVM** learning model are:"
   ]
  },
  {
   "cell_type": "code",
   "execution_count": 204,
   "metadata": {},
   "outputs": [],
   "source": [
    "# apply SVM\n",
    "svc_new_pred = svc_model.predict(X_test_newsample)"
   ]
  },
  {
   "cell_type": "code",
   "execution_count": 208,
   "metadata": {},
   "outputs": [
    {
     "data": {
      "text/html": [
       "<div>\n",
       "<style scoped>\n",
       "    .dataframe tbody tr th:only-of-type {\n",
       "        vertical-align: middle;\n",
       "    }\n",
       "\n",
       "    .dataframe tbody tr th {\n",
       "        vertical-align: top;\n",
       "    }\n",
       "\n",
       "    .dataframe thead th {\n",
       "        text-align: right;\n",
       "    }\n",
       "</style>\n",
       "<table border=\"1\" class=\"dataframe\">\n",
       "  <thead>\n",
       "    <tr style=\"text-align: right;\">\n",
       "      <th></th>\n",
       "      <th>var_1</th>\n",
       "      <th>var_2</th>\n",
       "      <th>var_5</th>\n",
       "      <th>var_7</th>\n",
       "      <th>var_12</th>\n",
       "      <th>new_pred</th>\n",
       "    </tr>\n",
       "    <tr>\n",
       "      <th>user_id</th>\n",
       "      <th></th>\n",
       "      <th></th>\n",
       "      <th></th>\n",
       "      <th></th>\n",
       "      <th></th>\n",
       "      <th></th>\n",
       "    </tr>\n",
       "  </thead>\n",
       "  <tbody>\n",
       "    <tr>\n",
       "      <th>154472</th>\n",
       "      <td>1</td>\n",
       "      <td>1</td>\n",
       "      <td>33.254023</td>\n",
       "      <td>40</td>\n",
       "      <td>0.60563</td>\n",
       "      <td>0</td>\n",
       "    </tr>\n",
       "    <tr>\n",
       "      <th>151147</th>\n",
       "      <td>1</td>\n",
       "      <td>1</td>\n",
       "      <td>42.681445</td>\n",
       "      <td>1582</td>\n",
       "      <td>0.88451</td>\n",
       "      <td>1</td>\n",
       "    </tr>\n",
       "    <tr>\n",
       "      <th>10543</th>\n",
       "      <td>1</td>\n",
       "      <td>1</td>\n",
       "      <td>33.501102</td>\n",
       "      <td>105</td>\n",
       "      <td>0.86154</td>\n",
       "      <td>1</td>\n",
       "    </tr>\n",
       "    <tr>\n",
       "      <th>136986</th>\n",
       "      <td>0</td>\n",
       "      <td>0</td>\n",
       "      <td>0.000000</td>\n",
       "      <td>0</td>\n",
       "      <td>0.10018</td>\n",
       "      <td>0</td>\n",
       "    </tr>\n",
       "    <tr>\n",
       "      <th>137008</th>\n",
       "      <td>1</td>\n",
       "      <td>1</td>\n",
       "      <td>34.344784</td>\n",
       "      <td>30</td>\n",
       "      <td>0.68598</td>\n",
       "      <td>0</td>\n",
       "    </tr>\n",
       "    <tr>\n",
       "      <th>137059</th>\n",
       "      <td>0</td>\n",
       "      <td>0</td>\n",
       "      <td>0.000000</td>\n",
       "      <td>0</td>\n",
       "      <td>0.08061</td>\n",
       "      <td>0</td>\n",
       "    </tr>\n",
       "    <tr>\n",
       "      <th>137253</th>\n",
       "      <td>0</td>\n",
       "      <td>0</td>\n",
       "      <td>0.000000</td>\n",
       "      <td>0</td>\n",
       "      <td>0.08061</td>\n",
       "      <td>0</td>\n",
       "    </tr>\n",
       "    <tr>\n",
       "      <th>137323</th>\n",
       "      <td>1</td>\n",
       "      <td>1</td>\n",
       "      <td>29.925298</td>\n",
       "      <td>20</td>\n",
       "      <td>0.77864</td>\n",
       "      <td>1</td>\n",
       "    </tr>\n",
       "    <tr>\n",
       "      <th>171652</th>\n",
       "      <td>1</td>\n",
       "      <td>1</td>\n",
       "      <td>0.000000</td>\n",
       "      <td>1810</td>\n",
       "      <td>0.67349</td>\n",
       "      <td>0</td>\n",
       "    </tr>\n",
       "    <tr>\n",
       "      <th>137341</th>\n",
       "      <td>1</td>\n",
       "      <td>1</td>\n",
       "      <td>34.572958</td>\n",
       "      <td>399</td>\n",
       "      <td>0.83240</td>\n",
       "      <td>1</td>\n",
       "    </tr>\n",
       "    <tr>\n",
       "      <th>137768</th>\n",
       "      <td>1</td>\n",
       "      <td>1</td>\n",
       "      <td>22.663224</td>\n",
       "      <td>236</td>\n",
       "      <td>0.25554</td>\n",
       "      <td>0</td>\n",
       "    </tr>\n",
       "    <tr>\n",
       "      <th>137822</th>\n",
       "      <td>1</td>\n",
       "      <td>1</td>\n",
       "      <td>32.954738</td>\n",
       "      <td>450</td>\n",
       "      <td>0.59736</td>\n",
       "      <td>0</td>\n",
       "    </tr>\n",
       "    <tr>\n",
       "      <th>137879</th>\n",
       "      <td>0</td>\n",
       "      <td>0</td>\n",
       "      <td>26.804861</td>\n",
       "      <td>217</td>\n",
       "      <td>0.71104</td>\n",
       "      <td>0</td>\n",
       "    </tr>\n",
       "    <tr>\n",
       "      <th>137984</th>\n",
       "      <td>1</td>\n",
       "      <td>1</td>\n",
       "      <td>35.802761</td>\n",
       "      <td>190</td>\n",
       "      <td>0.92892</td>\n",
       "      <td>1</td>\n",
       "    </tr>\n",
       "    <tr>\n",
       "      <th>138103</th>\n",
       "      <td>1</td>\n",
       "      <td>1</td>\n",
       "      <td>0.000000</td>\n",
       "      <td>1</td>\n",
       "      <td>0.17138</td>\n",
       "      <td>0</td>\n",
       "    </tr>\n",
       "    <tr>\n",
       "      <th>138200</th>\n",
       "      <td>1</td>\n",
       "      <td>1</td>\n",
       "      <td>26.361832</td>\n",
       "      <td>380</td>\n",
       "      <td>0.55178</td>\n",
       "      <td>0</td>\n",
       "    </tr>\n",
       "    <tr>\n",
       "      <th>138405</th>\n",
       "      <td>1</td>\n",
       "      <td>1</td>\n",
       "      <td>38.972069</td>\n",
       "      <td>563</td>\n",
       "      <td>0.92875</td>\n",
       "      <td>1</td>\n",
       "    </tr>\n",
       "    <tr>\n",
       "      <th>138439</th>\n",
       "      <td>0</td>\n",
       "      <td>0</td>\n",
       "      <td>15.813438</td>\n",
       "      <td>0</td>\n",
       "      <td>0.38118</td>\n",
       "      <td>0</td>\n",
       "    </tr>\n",
       "    <tr>\n",
       "      <th>138473</th>\n",
       "      <td>0</td>\n",
       "      <td>0</td>\n",
       "      <td>22.014121</td>\n",
       "      <td>0</td>\n",
       "      <td>0.07780</td>\n",
       "      <td>0</td>\n",
       "    </tr>\n",
       "    <tr>\n",
       "      <th>138483</th>\n",
       "      <td>0</td>\n",
       "      <td>0</td>\n",
       "      <td>26.903693</td>\n",
       "      <td>0</td>\n",
       "      <td>0.65279</td>\n",
       "      <td>0</td>\n",
       "    </tr>\n",
       "    <tr>\n",
       "      <th>138582</th>\n",
       "      <td>0</td>\n",
       "      <td>0</td>\n",
       "      <td>0.000000</td>\n",
       "      <td>0</td>\n",
       "      <td>0.08061</td>\n",
       "      <td>0</td>\n",
       "    </tr>\n",
       "    <tr>\n",
       "      <th>138606</th>\n",
       "      <td>1</td>\n",
       "      <td>0</td>\n",
       "      <td>0.000000</td>\n",
       "      <td>85</td>\n",
       "      <td>0.15566</td>\n",
       "      <td>0</td>\n",
       "    </tr>\n",
       "    <tr>\n",
       "      <th>138738</th>\n",
       "      <td>0</td>\n",
       "      <td>0</td>\n",
       "      <td>21.820799</td>\n",
       "      <td>240</td>\n",
       "      <td>0.10255</td>\n",
       "      <td>0</td>\n",
       "    </tr>\n",
       "    <tr>\n",
       "      <th>138948</th>\n",
       "      <td>0</td>\n",
       "      <td>0</td>\n",
       "      <td>0.000000</td>\n",
       "      <td>0</td>\n",
       "      <td>0.08061</td>\n",
       "      <td>0</td>\n",
       "    </tr>\n",
       "    <tr>\n",
       "      <th>139606</th>\n",
       "      <td>0</td>\n",
       "      <td>0</td>\n",
       "      <td>0.000000</td>\n",
       "      <td>0</td>\n",
       "      <td>0.14191</td>\n",
       "      <td>0</td>\n",
       "    </tr>\n",
       "    <tr>\n",
       "      <th>149425</th>\n",
       "      <td>1</td>\n",
       "      <td>1</td>\n",
       "      <td>43.409466</td>\n",
       "      <td>1563</td>\n",
       "      <td>0.93951</td>\n",
       "      <td>1</td>\n",
       "    </tr>\n",
       "    <tr>\n",
       "      <th>149419</th>\n",
       "      <td>1</td>\n",
       "      <td>0</td>\n",
       "      <td>27.236982</td>\n",
       "      <td>36</td>\n",
       "      <td>0.81458</td>\n",
       "      <td>1</td>\n",
       "    </tr>\n",
       "    <tr>\n",
       "      <th>150894</th>\n",
       "      <td>1</td>\n",
       "      <td>1</td>\n",
       "      <td>51.120647</td>\n",
       "      <td>1342</td>\n",
       "      <td>0.89298</td>\n",
       "      <td>1</td>\n",
       "    </tr>\n",
       "    <tr>\n",
       "      <th>141733</th>\n",
       "      <td>0</td>\n",
       "      <td>0</td>\n",
       "      <td>18.876661</td>\n",
       "      <td>0</td>\n",
       "      <td>0.20673</td>\n",
       "      <td>0</td>\n",
       "    </tr>\n",
       "    <tr>\n",
       "      <th>144653</th>\n",
       "      <td>1</td>\n",
       "      <td>1</td>\n",
       "      <td>24.671342</td>\n",
       "      <td>222</td>\n",
       "      <td>0.90147</td>\n",
       "      <td>1</td>\n",
       "    </tr>\n",
       "    <tr>\n",
       "      <th>147263</th>\n",
       "      <td>1</td>\n",
       "      <td>1</td>\n",
       "      <td>39.009098</td>\n",
       "      <td>27</td>\n",
       "      <td>0.81860</td>\n",
       "      <td>1</td>\n",
       "    </tr>\n",
       "    <tr>\n",
       "      <th>147793</th>\n",
       "      <td>0</td>\n",
       "      <td>0</td>\n",
       "      <td>0.000000</td>\n",
       "      <td>0</td>\n",
       "      <td>0.10714</td>\n",
       "      <td>0</td>\n",
       "    </tr>\n",
       "    <tr>\n",
       "      <th>148663</th>\n",
       "      <td>1</td>\n",
       "      <td>1</td>\n",
       "      <td>43.537221</td>\n",
       "      <td>957</td>\n",
       "      <td>0.93709</td>\n",
       "      <td>1</td>\n",
       "    </tr>\n",
       "    <tr>\n",
       "      <th>149065</th>\n",
       "      <td>1</td>\n",
       "      <td>0</td>\n",
       "      <td>29.102700</td>\n",
       "      <td>3</td>\n",
       "      <td>0.33104</td>\n",
       "      <td>0</td>\n",
       "    </tr>\n",
       "    <tr>\n",
       "      <th>149643</th>\n",
       "      <td>0</td>\n",
       "      <td>0</td>\n",
       "      <td>0.000000</td>\n",
       "      <td>0</td>\n",
       "      <td>0.41157</td>\n",
       "      <td>0</td>\n",
       "    </tr>\n",
       "    <tr>\n",
       "      <th>149792</th>\n",
       "      <td>1</td>\n",
       "      <td>1</td>\n",
       "      <td>0.000000</td>\n",
       "      <td>835</td>\n",
       "      <td>0.16774</td>\n",
       "      <td>0</td>\n",
       "    </tr>\n",
       "    <tr>\n",
       "      <th>10420</th>\n",
       "      <td>1</td>\n",
       "      <td>0</td>\n",
       "      <td>48.228613</td>\n",
       "      <td>0</td>\n",
       "      <td>0.35088</td>\n",
       "      <td>0</td>\n",
       "    </tr>\n",
       "    <tr>\n",
       "      <th>152535</th>\n",
       "      <td>1</td>\n",
       "      <td>1</td>\n",
       "      <td>22.981221</td>\n",
       "      <td>69</td>\n",
       "      <td>0.38972</td>\n",
       "      <td>0</td>\n",
       "    </tr>\n",
       "    <tr>\n",
       "      <th>153169</th>\n",
       "      <td>1</td>\n",
       "      <td>1</td>\n",
       "      <td>0.000000</td>\n",
       "      <td>457</td>\n",
       "      <td>0.73181</td>\n",
       "      <td>1</td>\n",
       "    </tr>\n",
       "    <tr>\n",
       "      <th>153389</th>\n",
       "      <td>0</td>\n",
       "      <td>1</td>\n",
       "      <td>0.000000</td>\n",
       "      <td>0</td>\n",
       "      <td>0.11321</td>\n",
       "      <td>0</td>\n",
       "    </tr>\n",
       "    <tr>\n",
       "      <th>153395</th>\n",
       "      <td>1</td>\n",
       "      <td>0</td>\n",
       "      <td>0.000000</td>\n",
       "      <td>55</td>\n",
       "      <td>0.35629</td>\n",
       "      <td>0</td>\n",
       "    </tr>\n",
       "    <tr>\n",
       "      <th>154070</th>\n",
       "      <td>0</td>\n",
       "      <td>0</td>\n",
       "      <td>0.000000</td>\n",
       "      <td>0</td>\n",
       "      <td>0.08061</td>\n",
       "      <td>0</td>\n",
       "    </tr>\n",
       "    <tr>\n",
       "      <th>154777</th>\n",
       "      <td>0</td>\n",
       "      <td>0</td>\n",
       "      <td>0.000000</td>\n",
       "      <td>0</td>\n",
       "      <td>0.08061</td>\n",
       "      <td>0</td>\n",
       "    </tr>\n",
       "    <tr>\n",
       "      <th>168361</th>\n",
       "      <td>0</td>\n",
       "      <td>0</td>\n",
       "      <td>0.000000</td>\n",
       "      <td>1123</td>\n",
       "      <td>0.10630</td>\n",
       "      <td>0</td>\n",
       "    </tr>\n",
       "    <tr>\n",
       "      <th>168689</th>\n",
       "      <td>1</td>\n",
       "      <td>1</td>\n",
       "      <td>26.400655</td>\n",
       "      <td>695</td>\n",
       "      <td>0.31953</td>\n",
       "      <td>0</td>\n",
       "    </tr>\n",
       "    <tr>\n",
       "      <th>168840</th>\n",
       "      <td>1</td>\n",
       "      <td>0</td>\n",
       "      <td>26.877454</td>\n",
       "      <td>5</td>\n",
       "      <td>0.50921</td>\n",
       "      <td>0</td>\n",
       "    </tr>\n",
       "    <tr>\n",
       "      <th>168845</th>\n",
       "      <td>1</td>\n",
       "      <td>1</td>\n",
       "      <td>0.000000</td>\n",
       "      <td>17</td>\n",
       "      <td>0.28022</td>\n",
       "      <td>0</td>\n",
       "    </tr>\n",
       "    <tr>\n",
       "      <th>168862</th>\n",
       "      <td>1</td>\n",
       "      <td>1</td>\n",
       "      <td>28.673564</td>\n",
       "      <td>1403</td>\n",
       "      <td>0.65822</td>\n",
       "      <td>0</td>\n",
       "    </tr>\n",
       "    <tr>\n",
       "      <th>168864</th>\n",
       "      <td>1</td>\n",
       "      <td>1</td>\n",
       "      <td>21.923702</td>\n",
       "      <td>13</td>\n",
       "      <td>0.69437</td>\n",
       "      <td>0</td>\n",
       "    </tr>\n",
       "    <tr>\n",
       "      <th>168989</th>\n",
       "      <td>1</td>\n",
       "      <td>1</td>\n",
       "      <td>0.000000</td>\n",
       "      <td>183</td>\n",
       "      <td>0.29884</td>\n",
       "      <td>0</td>\n",
       "    </tr>\n",
       "    <tr>\n",
       "      <th>168991</th>\n",
       "      <td>1</td>\n",
       "      <td>1</td>\n",
       "      <td>30.403461</td>\n",
       "      <td>702</td>\n",
       "      <td>0.75216</td>\n",
       "      <td>1</td>\n",
       "    </tr>\n",
       "    <tr>\n",
       "      <th>169591</th>\n",
       "      <td>0</td>\n",
       "      <td>0</td>\n",
       "      <td>0.000000</td>\n",
       "      <td>0</td>\n",
       "      <td>0.06707</td>\n",
       "      <td>0</td>\n",
       "    </tr>\n",
       "    <tr>\n",
       "      <th>169636</th>\n",
       "      <td>1</td>\n",
       "      <td>0</td>\n",
       "      <td>0.000000</td>\n",
       "      <td>4</td>\n",
       "      <td>0.10986</td>\n",
       "      <td>0</td>\n",
       "    </tr>\n",
       "    <tr>\n",
       "      <th>169853</th>\n",
       "      <td>0</td>\n",
       "      <td>0</td>\n",
       "      <td>23.274683</td>\n",
       "      <td>0</td>\n",
       "      <td>0.30361</td>\n",
       "      <td>0</td>\n",
       "    </tr>\n",
       "    <tr>\n",
       "      <th>259509</th>\n",
       "      <td>1</td>\n",
       "      <td>1</td>\n",
       "      <td>26.417065</td>\n",
       "      <td>787</td>\n",
       "      <td>0.80725</td>\n",
       "      <td>1</td>\n",
       "    </tr>\n",
       "    <tr>\n",
       "      <th>260608</th>\n",
       "      <td>1</td>\n",
       "      <td>1</td>\n",
       "      <td>40.801757</td>\n",
       "      <td>885</td>\n",
       "      <td>0.94547</td>\n",
       "      <td>1</td>\n",
       "    </tr>\n",
       "    <tr>\n",
       "      <th>602671</th>\n",
       "      <td>1</td>\n",
       "      <td>1</td>\n",
       "      <td>24.499112</td>\n",
       "      <td>101</td>\n",
       "      <td>0.52842</td>\n",
       "      <td>0</td>\n",
       "    </tr>\n",
       "    <tr>\n",
       "      <th>602672</th>\n",
       "      <td>0</td>\n",
       "      <td>0</td>\n",
       "      <td>15.846660</td>\n",
       "      <td>0</td>\n",
       "      <td>0.09382</td>\n",
       "      <td>0</td>\n",
       "    </tr>\n",
       "    <tr>\n",
       "      <th>8107</th>\n",
       "      <td>1</td>\n",
       "      <td>1</td>\n",
       "      <td>45.499149</td>\n",
       "      <td>89</td>\n",
       "      <td>0.77027</td>\n",
       "      <td>1</td>\n",
       "    </tr>\n",
       "  </tbody>\n",
       "</table>\n",
       "</div>"
      ],
      "text/plain": [
       "         var_1  var_2      var_5  var_7   var_12  new_pred\n",
       "user_id                                                   \n",
       "154472       1      1  33.254023     40  0.60563         0\n",
       "151147       1      1  42.681445   1582  0.88451         1\n",
       "10543        1      1  33.501102    105  0.86154         1\n",
       "136986       0      0   0.000000      0  0.10018         0\n",
       "137008       1      1  34.344784     30  0.68598         0\n",
       "137059       0      0   0.000000      0  0.08061         0\n",
       "137253       0      0   0.000000      0  0.08061         0\n",
       "137323       1      1  29.925298     20  0.77864         1\n",
       "171652       1      1   0.000000   1810  0.67349         0\n",
       "137341       1      1  34.572958    399  0.83240         1\n",
       "137768       1      1  22.663224    236  0.25554         0\n",
       "137822       1      1  32.954738    450  0.59736         0\n",
       "137879       0      0  26.804861    217  0.71104         0\n",
       "137984       1      1  35.802761    190  0.92892         1\n",
       "138103       1      1   0.000000      1  0.17138         0\n",
       "138200       1      1  26.361832    380  0.55178         0\n",
       "138405       1      1  38.972069    563  0.92875         1\n",
       "138439       0      0  15.813438      0  0.38118         0\n",
       "138473       0      0  22.014121      0  0.07780         0\n",
       "138483       0      0  26.903693      0  0.65279         0\n",
       "138582       0      0   0.000000      0  0.08061         0\n",
       "138606       1      0   0.000000     85  0.15566         0\n",
       "138738       0      0  21.820799    240  0.10255         0\n",
       "138948       0      0   0.000000      0  0.08061         0\n",
       "139606       0      0   0.000000      0  0.14191         0\n",
       "149425       1      1  43.409466   1563  0.93951         1\n",
       "149419       1      0  27.236982     36  0.81458         1\n",
       "150894       1      1  51.120647   1342  0.89298         1\n",
       "141733       0      0  18.876661      0  0.20673         0\n",
       "144653       1      1  24.671342    222  0.90147         1\n",
       "147263       1      1  39.009098     27  0.81860         1\n",
       "147793       0      0   0.000000      0  0.10714         0\n",
       "148663       1      1  43.537221    957  0.93709         1\n",
       "149065       1      0  29.102700      3  0.33104         0\n",
       "149643       0      0   0.000000      0  0.41157         0\n",
       "149792       1      1   0.000000    835  0.16774         0\n",
       "10420        1      0  48.228613      0  0.35088         0\n",
       "152535       1      1  22.981221     69  0.38972         0\n",
       "153169       1      1   0.000000    457  0.73181         1\n",
       "153389       0      1   0.000000      0  0.11321         0\n",
       "153395       1      0   0.000000     55  0.35629         0\n",
       "154070       0      0   0.000000      0  0.08061         0\n",
       "154777       0      0   0.000000      0  0.08061         0\n",
       "168361       0      0   0.000000   1123  0.10630         0\n",
       "168689       1      1  26.400655    695  0.31953         0\n",
       "168840       1      0  26.877454      5  0.50921         0\n",
       "168845       1      1   0.000000     17  0.28022         0\n",
       "168862       1      1  28.673564   1403  0.65822         0\n",
       "168864       1      1  21.923702     13  0.69437         0\n",
       "168989       1      1   0.000000    183  0.29884         0\n",
       "168991       1      1  30.403461    702  0.75216         1\n",
       "169591       0      0   0.000000      0  0.06707         0\n",
       "169636       1      0   0.000000      4  0.10986         0\n",
       "169853       0      0  23.274683      0  0.30361         0\n",
       "259509       1      1  26.417065    787  0.80725         1\n",
       "260608       1      1  40.801757    885  0.94547         1\n",
       "602671       1      1  24.499112    101  0.52842         0\n",
       "602672       0      0  15.846660      0  0.09382         0\n",
       "8107         1      1  45.499149     89  0.77027         1"
      ]
     },
     "execution_count": 208,
     "metadata": {},
     "output_type": "execute_result"
    }
   ],
   "source": [
    "# see the results taking a look at the predictions created\n",
    "testmod['new_pred'] = svc_new_pred\n",
    "testmod"
   ]
  }
 ],
 "metadata": {
  "kernelspec": {
   "display_name": "Python 3",
   "language": "python",
   "name": "python3"
  },
  "language_info": {
   "codemirror_mode": {
    "name": "ipython",
    "version": 3
   },
   "file_extension": ".py",
   "mimetype": "text/x-python",
   "name": "python",
   "nbconvert_exporter": "python",
   "pygments_lexer": "ipython3",
   "version": "3.6.4"
  }
 },
 "nbformat": 4,
 "nbformat_minor": 2
}
